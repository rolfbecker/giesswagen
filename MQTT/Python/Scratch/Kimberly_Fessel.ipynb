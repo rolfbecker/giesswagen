{
 "cells": [
  {
   "cell_type": "markdown",
   "id": "5010f39d-865b-4b02-a5d0-b4aa2c6e813b",
   "metadata": {},
   "source": [
    "# Plot Data Stream in Matplotlib by Updating the Plotting Data."
   ]
  },
  {
   "cell_type": "code",
   "execution_count": 1,
   "id": "480588ae-9f16-4143-8afa-2d7f65fe331c",
   "metadata": {},
   "outputs": [],
   "source": [
    "import ipywidgets as widgets"
   ]
  },
  {
   "cell_type": "code",
   "execution_count": 2,
   "id": "74d08a56-bf9c-4e65-9f2d-cd8f42729e15",
   "metadata": {},
   "outputs": [
    {
     "data": {
      "application/vnd.jupyter.widget-view+json": {
       "model_id": "45917c4bd0334a2b8e5fe98faa00121c",
       "version_major": 2,
       "version_minor": 0
      },
      "text/plain": [
       "IntSlider(value=0)"
      ]
     },
     "execution_count": 2,
     "metadata": {},
     "output_type": "execute_result"
    }
   ],
   "source": [
    "widgets.IntSlider()"
   ]
  },
  {
   "cell_type": "code",
   "execution_count": 3,
   "id": "58788b70-3c90-4026-aabd-8839ff5c618a",
   "metadata": {},
   "outputs": [],
   "source": [
    "w = widgets.IntSlider()"
   ]
  },
  {
   "cell_type": "code",
   "execution_count": 4,
   "id": "b5cf84f9-761f-47de-bbfd-5ecf6e44831e",
   "metadata": {},
   "outputs": [],
   "source": [
    "from IPython.display import display"
   ]
  },
  {
   "cell_type": "code",
   "execution_count": 5,
   "id": "90c19335-db32-45f0-8a4c-81f04638beb2",
   "metadata": {},
   "outputs": [
    {
     "data": {
      "application/vnd.jupyter.widget-view+json": {
       "model_id": "7761140550a549f2a4ca7a9134ef3646",
       "version_major": 2,
       "version_minor": 0
      },
      "text/plain": [
       "IntSlider(value=0)"
      ]
     },
     "metadata": {},
     "output_type": "display_data"
    }
   ],
   "source": [
    "display(w)"
   ]
  },
  {
   "cell_type": "code",
   "execution_count": 6,
   "id": "77e25365-dc45-4742-a7cb-c94bb8e75364",
   "metadata": {},
   "outputs": [],
   "source": [
    "w.step = 10"
   ]
  },
  {
   "cell_type": "code",
   "execution_count": 7,
   "id": "fb2751fe-21c6-479c-b92c-5c838d56317f",
   "metadata": {},
   "outputs": [],
   "source": [
    "w.step = 5"
   ]
  },
  {
   "cell_type": "code",
   "execution_count": 15,
   "id": "5ed2b6b2-1dac-4405-86ff-2fc999d9fb24",
   "metadata": {},
   "outputs": [],
   "source": [
    "import seaborn as sns\n",
    "import matplotlib.pyplot as plt"
   ]
  },
  {
   "cell_type": "code",
   "execution_count": 16,
   "id": "9e9d0693-54be-43fe-a888-c8174ffae3f6",
   "metadata": {},
   "outputs": [],
   "source": [
    "cars = sns.load_dataset(\"mpg\")"
   ]
  },
  {
   "cell_type": "code",
   "execution_count": 17,
   "id": "81f3061b-7880-4333-9667-cf78a48b20fc",
   "metadata": {},
   "outputs": [],
   "source": [
    "def bandwidth_widget(bw = 1):\n",
    "    sns.kdeplot(cars.horsepower, lw=3, fill=True, bw_adjust=bw)\n",
    "    plt.xlim(-30,300)\n",
    "    plt.ylim(0,0.03)"
   ]
  },
  {
   "cell_type": "code",
   "execution_count": 19,
   "id": "2a23f7ee-d1d2-4842-84bb-706759269706",
   "metadata": {},
   "outputs": [
    {
     "data": {
      "application/vnd.jupyter.widget-view+json": {
       "model_id": "2d64210e484e4cf6ae3947718a29e84b",
       "version_major": 2,
       "version_minor": 0
      },
      "text/plain": [
       "interactive(children=(FloatSlider(value=1.0, description='bw', max=3.0, min=0.1), Output()), _dom_classes=('wi…"
      ]
     },
     "metadata": {},
     "output_type": "display_data"
    }
   ],
   "source": [
    "widgets.interact(bandwidth_widget, bw=(.1, 3))\n",
    "plt.show()"
   ]
  },
  {
   "cell_type": "code",
   "execution_count": null,
   "id": "3b48d409-fdbd-4db4-a942-50e52405c275",
   "metadata": {},
   "outputs": [],
   "source": []
  }
 ],
 "metadata": {
  "kernelspec": {
   "display_name": "Python 3 (ipykernel)",
   "language": "python",
   "name": "python3"
  },
  "language_info": {
   "codemirror_mode": {
    "name": "ipython",
    "version": 3
   },
   "file_extension": ".py",
   "mimetype": "text/x-python",
   "name": "python",
   "nbconvert_exporter": "python",
   "pygments_lexer": "ipython3",
   "version": "3.11.4"
  }
 },
 "nbformat": 4,
 "nbformat_minor": 5
}
