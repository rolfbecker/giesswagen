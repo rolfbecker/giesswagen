{
 "cells": [
  {
   "cell_type": "code",
   "execution_count": 1,
   "id": "bccd0353-2414-4c1c-8c09-76e2c563aacd",
   "metadata": {
    "tags": []
   },
   "outputs": [
    {
     "data": {
      "application/vnd.jupyter.widget-view+json": {
       "model_id": "e770780f9904444081b72dc6f6429c4b",
       "version_major": 2,
       "version_minor": 0
      },
      "text/plain": [
       "Figure(axes=[Axis(scale=LinearScale()), Axis(orientation='vertical', scale=LinearScale())], fig_margin={'top':…"
      ]
     },
     "metadata": {},
     "output_type": "display_data"
    }
   ],
   "source": [
    "import numpy as np\n",
    "import bqplot.pyplot as plt\n",
    "from IPython.display import display, clear_output\n",
    "\n",
    "# Create an initial empty line plot\n",
    "x = np.arange(100)\n",
    "y = np.zeros(100)\n",
    "\n",
    "# Create the figure and line plot\n",
    "fig = plt.figure(title='Streaming Line Plot')\n",
    "line = plt.plot(x, y)\n",
    "\n",
    "# Display the figure\n",
    "display(fig)"
   ]
  },
  {
   "cell_type": "code",
   "execution_count": 7,
   "id": "35b0ef83-fb5a-4b75-bc69-e7afd29361fc",
   "metadata": {
    "tags": []
   },
   "outputs": [],
   "source": [
    "from numpy import sin, pi\n",
    "def f(x, X=50):\n",
    "    y = sin(2*pi*x/X)\n",
    "    return(y)"
   ]
  },
  {
   "cell_type": "code",
   "execution_count": 8,
   "id": "8d3339ac-062e-42df-a8d9-1382c0a7913e",
   "metadata": {
    "tags": []
   },
   "outputs": [
    {
     "data": {
      "text/plain": [
       "10.150856256484985"
      ]
     },
     "execution_count": 8,
     "metadata": {},
     "output_type": "execute_result"
    }
   ],
   "source": [
    "import time\n",
    "\n",
    "t1 = time.time()\n",
    "\n",
    "for xp in range(100):\n",
    "    y = np.roll(y, -1)\n",
    "    y[-1] = f(xp)\n",
    "    line.y = y\n",
    "    time.sleep(0.1)\n",
    "    \n",
    "t2 = time.time()\n",
    "\n",
    "t2-t1"
   ]
  },
  {
   "cell_type": "code",
   "execution_count": null,
   "id": "b2c84370-35a2-4865-a513-3be0c4d71abd",
   "metadata": {},
   "outputs": [],
   "source": []
  }
 ],
 "metadata": {
  "kernelspec": {
   "display_name": "Python 3 (ipykernel)",
   "language": "python",
   "name": "python3"
  },
  "language_info": {
   "codemirror_mode": {
    "name": "ipython",
    "version": 3
   },
   "file_extension": ".py",
   "mimetype": "text/x-python",
   "name": "python",
   "nbconvert_exporter": "python",
   "pygments_lexer": "ipython3",
   "version": "3.11.4"
  }
 },
 "nbformat": 4,
 "nbformat_minor": 5
}
