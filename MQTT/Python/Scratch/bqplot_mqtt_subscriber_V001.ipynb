{
 "cells": [
  {
   "cell_type": "code",
   "execution_count": 1,
   "id": "514bf753-cb8e-4c1c-8102-2792032aaeb2",
   "metadata": {},
   "outputs": [],
   "source": [
    "import paho.mqtt.client as mqtt\n",
    "import numpy as np\n",
    "import bqplot.pyplot as plt\n",
    "from IPython.display import display, clear_output\n",
    "import ipywidgets as widgets"
   ]
  },
  {
   "cell_type": "code",
   "execution_count": 2,
   "id": "4739aa00-acef-4f71-bc57-63df43371b1b",
   "metadata": {},
   "outputs": [
    {
     "data": {
      "application/vnd.jupyter.widget-view+json": {
       "model_id": "04ee2d6839284896a6e0c472044e2e96",
       "version_major": 2,
       "version_minor": 0
      },
      "text/plain": [
       "Output(layout=Layout(border_bottom='1px solid black', border_left='1px solid black', border_right='1px solid b…"
      ]
     },
     "metadata": {},
     "output_type": "display_data"
    }
   ],
   "source": [
    "out = widgets.Output(layout={'border': '1px solid black'})\n",
    "out.append_stdout('HERE THE DECODED MQTT MESSAGES WILL BE SHOWN!\\n')\n",
    "display(out)"
   ]
  },
  {
   "cell_type": "code",
   "execution_count": 3,
   "id": "7b563d1f-f66c-4f6c-ab32-df6a7113762a",
   "metadata": {},
   "outputs": [
    {
     "data": {
      "application/vnd.jupyter.widget-view+json": {
       "model_id": "11836c775b784929a85d190959bfc35b",
       "version_major": 2,
       "version_minor": 0
      },
      "text/plain": [
       "Figure(axes=[Axis(scale=LinearScale()), Axis(orientation='vertical', scale=LinearScale())], fig_margin={'top':…"
      ]
     },
     "metadata": {},
     "output_type": "display_data"
    }
   ],
   "source": [
    "# Create an initial empty line plot\n",
    "x_data = np.array([])  # Initialize with empty arrays\n",
    "z_data = np.array([])\n",
    "t_data = np.array([])\n",
    "\n",
    "# Create the figure and line plot\n",
    "fig = plt.figure(title='Real-time Profile Plot')\n",
    "line = plt.plot(x_data, z_data, colors=['blue'], marker='circle', display_legend=False)\n",
    "text_widget = plt.label([], x=[0.1], y=[0.1], colors=['black'])\n",
    "\n",
    "i = 0\n",
    "t = x = z = 0\n",
    "payload = \"\"\n",
    "\n",
    "def on_message(client, userdata, message):\n",
    "    global i\n",
    "    global payload\n",
    "    global t,x,z\n",
    "    global x_data\n",
    "    global z_data\n",
    "    global t_data\n",
    "    \n",
    "    # Parse the received message\n",
    "    payload = message.payload.decode('utf-8')\n",
    "    t, x, z = map(float, payload.strip('()').split(','))\n",
    "    s = f\"{i:4d}  {t:12.2f}  {x:6.2f}  {z:6.2f}\"\n",
    "    i+=1\n",
    "\n",
    "#    print(s)\n",
    "#    out.append_stdout(s+\"\\n\")\n",
    "\n",
    "    # Append the new data point to the existing data\n",
    "    x_data = np.append(x_data, x)\n",
    "    z_data = np.append(z_data, z)\n",
    "    t_data = np.append(t_data, t)\n",
    "\n",
    "    # # Update the line plot with new data\n",
    "    line.x = x_data\n",
    "    line.y = z_data\n",
    "\n",
    "    # # Update the text widget with the latest 't' value\n",
    "    text_widget.text = [f\"Latest t: {t_data[-1]-t_data[0]:.1f} s\"]\n",
    "\n",
    "    # Refresh the plot\n",
    "#    clear_output(wait=True)\n",
    "#    display(fig)\n",
    "\n",
    "# Initialize the MQTT client#\n",
    "client = mqtt.Client()\n",
    "client.on_message = on_message\n",
    "#clienbroker.hivemq.comprojects.io\", 1883, 60)\n",
    "#client.subscribe(\"/gw01/duese01\")\n",
    "client.connect(\"broker.hivemq.com\", 1883, 60)\n",
    "client.subscribe(\"/gw01/duese02\")\n",
    "\n",
    "while (client.is_connected == False): pass\n",
    "\n",
    "out.append_stdout(\"MQTT Client connected.\\n\")\n",
    "\n",
    "# Start the MQTT client loop in the background\n",
    "client.loop_start()\n",
    "\n",
    "# Display the figure\n",
    "display(fig)\n"
   ]
  },
  {
   "cell_type": "code",
   "execution_count": 4,
   "id": "d4e77e55-0e8b-4c22-a7f9-1431ee3b6039",
   "metadata": {},
   "outputs": [
    {
     "data": {
      "text/plain": [
       "0"
      ]
     },
     "execution_count": 4,
     "metadata": {},
     "output_type": "execute_result"
    }
   ],
   "source": [
    "z"
   ]
  },
  {
   "cell_type": "code",
   "execution_count": null,
   "id": "e131f90c-7075-46f8-870a-518034c62704",
   "metadata": {},
   "outputs": [],
   "source": []
  }
 ],
 "metadata": {
  "kernelspec": {
   "display_name": "Python 3 (ipykernel)",
   "language": "python",
   "name": "python3"
  },
  "language_info": {
   "codemirror_mode": {
    "name": "ipython",
    "version": 3
   },
   "file_extension": ".py",
   "mimetype": "text/x-python",
   "name": "python",
   "nbconvert_exporter": "python",
   "pygments_lexer": "ipython3",
   "version": "3.11.4"
  }
 },
 "nbformat": 4,
 "nbformat_minor": 5
}
