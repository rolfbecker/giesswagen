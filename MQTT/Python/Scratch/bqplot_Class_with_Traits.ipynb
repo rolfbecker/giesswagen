{
 "cells": [
  {
   "cell_type": "code",
   "execution_count": 2,
   "id": "6247111e-aa03-479c-9ac7-fe9223d8f8c5",
   "metadata": {},
   "outputs": [],
   "source": [
    "import numpy as np\n",
    "import bqplot.pyplot as plt\n",
    "from traits.api import HasTraits, observe, Any, Array\n",
    "\n",
    "class ScatterPlotWithTraits(HasTraits):\n",
    "    figdata = Array(shape=(10, 2))\n",
    "    scatter = Any()  # Placeholder for the bqplot scatter object\n",
    "\n",
    "    def __init__(self):\n",
    "        super(ScatterPlotWithTraits, self).__init__()\n",
    "        self.figdata = np.random.rand(10, 2)  # Initialize with random data\n",
    "\n",
    "    @observe(\"figdata\")\n",
    "    def _on_figdata_update(self, change):\n",
    "        if self.scatter is None:  # Create the scatter object if it doesn't exist yet\n",
    "            self.scatter = plt.scatter(self.figdata[:, 0], self.figdata[:, 1])\n",
    "        with self.scatter.hold_sync():  # Disable automatic updates during this block\n",
    "            # Update the scatter plot's data when figdata changes\n",
    "            self.scatter.x = self.figdata[:, 0]\n",
    "            self.scatter.y = self.figdata[:, 1]\n",
    "\n",
    "    def update_data(self, new_data):\n",
    "        # Update the instance variable figdata with the new_data\n",
    "        # Assuming new_data is a numpy array of shape (10, 2)\n",
    "        self.figdata = new_data\n",
    "\n",
    "# # Example usage:\n",
    "# if __name__ == \"__main__\":\n",
    "#     plotter = ScatterPlotWithTraits()\n",
    "#     plt.show()"
   ]
  },
  {
   "cell_type": "code",
   "execution_count": 3,
   "id": "961bc7da-8e2e-4c4f-a39b-73a9a5f4d249",
   "metadata": {},
   "outputs": [
    {
     "data": {
      "application/vnd.jupyter.widget-view+json": {
       "model_id": "7ca8e5891fb84729b72d019d657ce37d",
       "version_major": 2,
       "version_minor": 0
      },
      "text/plain": [
       "VBox(children=(Figure(axes=[Axis(scale=LinearScale()), Axis(orientation='vertical', scale=LinearScale())], fig…"
      ]
     },
     "metadata": {},
     "output_type": "display_data"
    }
   ],
   "source": [
    "plotter = ScatterPlotWithTraits()\n",
    "plt.show()"
   ]
  },
  {
   "cell_type": "code",
   "execution_count": 4,
   "id": "60adc0da-f2da-466a-ac89-2e8b67e117c6",
   "metadata": {},
   "outputs": [],
   "source": [
    "x = np.arange(0,10,1)\n",
    "y = x**2\n",
    "d = np.array([x,y]).T\n",
    "plotter.update_data(d)"
   ]
  },
  {
   "cell_type": "code",
   "execution_count": 9,
   "id": "96f4f486-400c-42e9-993c-180f78a12a3d",
   "metadata": {},
   "outputs": [],
   "source": [
    "# Generate new_data (a numpy array of shape (2, 10))\n",
    "new_data = np.random.rand(10, 2)\n",
    "\n",
    "# Call the update_data method with the new data\n",
    "plotter.update_data(new_data)"
   ]
  },
  {
   "cell_type": "code",
   "execution_count": null,
   "id": "a1893c13-cdee-4c05-9f31-ba34a85d383c",
   "metadata": {},
   "outputs": [],
   "source": []
  },
  {
   "cell_type": "code",
   "execution_count": null,
   "id": "58ef5f47-5801-44f0-aa98-9e32816d9dea",
   "metadata": {},
   "outputs": [],
   "source": []
  }
 ],
 "metadata": {
  "kernelspec": {
   "display_name": "Python 3 (ipykernel)",
   "language": "python",
   "name": "python3"
  },
  "language_info": {
   "codemirror_mode": {
    "name": "ipython",
    "version": 3
   },
   "file_extension": ".py",
   "mimetype": "text/x-python",
   "name": "python",
   "nbconvert_exporter": "python",
   "pygments_lexer": "ipython3",
   "version": "3.11.4"
  }
 },
 "nbformat": 4,
 "nbformat_minor": 5
}
