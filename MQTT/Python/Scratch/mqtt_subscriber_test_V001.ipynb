{
 "cells": [
  {
   "cell_type": "code",
   "execution_count": null,
   "id": "21186c4d-24d4-4267-b5a6-c990bb2f2b7d",
   "metadata": {},
   "outputs": [],
   "source": [
    "import paho.mqtt.client as mqtt\n",
    "import numpy as np\n",
    "import bqplot.pyplot as plt\n",
    "from IPython.display import display, clear_output\n",
    "import ipywidgets as widgets"
   ]
  },
  {
   "cell_type": "code",
   "execution_count": null,
   "id": "c7710826-3d39-418e-9b98-b6401cbd8ecf",
   "metadata": {},
   "outputs": [],
   "source": [
    "out = widgets.Output(layout={'border': '1px solid black'})\n",
    "out.append_stdout('HERE THE DECODED MQTT MESSAGES WILL BE SHOWN!\\n')\n",
    "display(out)"
   ]
  },
  {
   "cell_type": "code",
   "execution_count": null,
   "id": "533622c6-d827-426e-a6f9-8edc27672f56",
   "metadata": {},
   "outputs": [],
   "source": [
    "i = 0\n",
    "t = x = z = 0\n",
    "payload = \"\"\n",
    "\n",
    "def on_message(client, userdata, message):\n",
    "    global i\n",
    "    global payload\n",
    "    global t,x,z\n",
    "    # Parse the received message\n",
    "    payload = message.payload.decode('utf-8')\n",
    "    t, x, z = map(float, payload.strip('()').split(','))\n",
    "#    print(i, payload)\n",
    "    s = f\"{i:4d}  {t:12.2f}  {x:6.2f}  {z:6.2f}\"\n",
    "    print(s)\n",
    "    out.append_stdout(s+\"\\n\")\n",
    "    i+=1\n",
    "\n",
    "# Initialize the MQTT client\n",
    "client = mqtt.Client()\n",
    "client.on_message = on_message\n",
    "#client.connect(\"mqtt.eclipseprojects.io\", 1883, 60)\n",
    "#client.subscribe(\"/gw01/duese01\")\n",
    "client.connect(\"broker.hivemq.com\", 1883, 60)\n",
    "client.subscribe(\"/gw01/duese02\")\n",
    "\n",
    "while (client.is_connected == False): pass\n",
    "\n",
    "# Start the MQTT client loop in the background\n",
    "client.loop_start()\n"
   ]
  },
  {
   "cell_type": "code",
   "execution_count": null,
   "id": "7027e7a7-4352-49c2-8a36-b2aefd3826b1",
   "metadata": {},
   "outputs": [],
   "source": []
  }
 ],
 "metadata": {
  "kernelspec": {
   "display_name": "Python 3 (ipykernel)",
   "language": "python",
   "name": "python3"
  },
  "language_info": {
   "codemirror_mode": {
    "name": "ipython",
    "version": 3
   },
   "file_extension": ".py",
   "mimetype": "text/x-python",
   "name": "python",
   "nbconvert_exporter": "python",
   "pygments_lexer": "ipython3",
   "version": "3.11.4"
  }
 },
 "nbformat": 4,
 "nbformat_minor": 5
}
