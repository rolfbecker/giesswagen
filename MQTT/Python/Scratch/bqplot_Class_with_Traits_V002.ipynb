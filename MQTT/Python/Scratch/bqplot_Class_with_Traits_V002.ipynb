{
 "cells": [
  {
   "cell_type": "code",
   "execution_count": 2,
   "id": "6247111e-aa03-479c-9ac7-fe9223d8f8c5",
   "metadata": {},
   "outputs": [],
   "source": [
    "import numpy as np\n",
    "import bqplot.pyplot as plt\n",
    "from traits.api import HasTraits, observe, Any, Array\n",
    "\n",
    "class ScatterPlotWithTraits(HasTraits):\n",
    "    figdata1 = Array(shape=(10, 2))\n",
    "    scatter1 = Any(default_value=plt.scatter([], []))  # Initialize with empty scatter\n",
    "\n",
    "    figdata2 = Array(shape=(10, 2))\n",
    "    scatter2 = Any(default_value=plt.scatter([], [], colors=['red']))  # Initialize with empty scatter\n",
    "\n",
    "    def __init__(self):\n",
    "        super(ScatterPlotWithTraits, self).__init__()\n",
    "        self.figdata1 = np.random.rand(10, 2)  # Initialize with random data\n",
    "        self.figdata2 = np.random.rand(10, 2)  # Initialize with random data\n",
    "\n",
    "    @observe(\"figdata1\")\n",
    "    def _on_figdata1_update(self, change):\n",
    "        with self.scatter1.hold_sync():  # Disable automatic updates during this block\n",
    "            if self.scatter1.x is not None:\n",
    "                self.scatter1.x = self.figdata1[:, 0]\n",
    "                self.scatter1.y = self.figdata1[:, 1]\n",
    "            else:\n",
    "                self.scatter1 = plt.scatter(self.figdata1[:, 0], self.figdata1[:, 1])\n",
    "\n",
    "    @observe(\"figdata2\")\n",
    "    def _on_figdata2_update(self, change):\n",
    "        with self.scatter2.hold_sync():  # Disable automatic updates during this block\n",
    "            if self.scatter2.x is not None:\n",
    "                self.scatter2.x = self.figdata2[:, 0]\n",
    "                self.scatter2.y = self.figdata2[:, 1]\n",
    "            else:\n",
    "                self.scatter2 = plt.scatter(self.figdata2[:, 0], self.figdata2[:, 1], colors=['red'])\n",
    "\n",
    "    def update_data1(self, new_data):\n",
    "        self.figdata1 = new_data\n",
    "\n",
    "    def update_data2(self, new_data):\n",
    "        self.figdata2 = new_data\n"
   ]
  },
  {
   "cell_type": "code",
   "execution_count": 3,
   "id": "961bc7da-8e2e-4c4f-a39b-73a9a5f4d249",
   "metadata": {},
   "outputs": [
    {
     "data": {
      "application/vnd.jupyter.widget-view+json": {
       "model_id": "2a5559b575f2423ab9a06755776ed225",
       "version_major": 2,
       "version_minor": 0
      },
      "text/plain": [
       "VBox(children=(Figure(axes=[Axis(scale=LinearScale(), side='bottom'), Axis(orientation='vertical', scale=Linea…"
      ]
     },
     "metadata": {},
     "output_type": "display_data"
    }
   ],
   "source": [
    "plotter = ScatterPlotWithTraits()\n",
    "plt.show()"
   ]
  },
  {
   "cell_type": "code",
   "execution_count": 4,
   "id": "60adc0da-f2da-466a-ac89-2e8b67e117c6",
   "metadata": {},
   "outputs": [],
   "source": [
    "x = np.arange(0,10,1)\n",
    "y = x**2\n",
    "d = np.array([x,y]).T\n",
    "plotter.update_data2(d)"
   ]
  },
  {
   "cell_type": "code",
   "execution_count": 12,
   "id": "96f4f486-400c-42e9-993c-180f78a12a3d",
   "metadata": {},
   "outputs": [],
   "source": [
    "# Generate new_data (a numpy array of shape (2, 10))\n",
    "new_data = np.random.rand(10, 2)\n",
    "\n",
    "# Call the update_data method with the new data\n",
    "plotter.update_data2(new_data)"
   ]
  },
  {
   "cell_type": "code",
   "execution_count": null,
   "id": "a1893c13-cdee-4c05-9f31-ba34a85d383c",
   "metadata": {},
   "outputs": [],
   "source": []
  },
  {
   "cell_type": "code",
   "execution_count": null,
   "id": "58ef5f47-5801-44f0-aa98-9e32816d9dea",
   "metadata": {},
   "outputs": [],
   "source": []
  }
 ],
 "metadata": {
  "kernelspec": {
   "display_name": "Python 3 (ipykernel)",
   "language": "python",
   "name": "python3"
  },
  "language_info": {
   "codemirror_mode": {
    "name": "ipython",
    "version": 3
   },
   "file_extension": ".py",
   "mimetype": "text/x-python",
   "name": "python",
   "nbconvert_exporter": "python",
   "pygments_lexer": "ipython3",
   "version": "3.11.4"
  }
 },
 "nbformat": 4,
 "nbformat_minor": 5
}
