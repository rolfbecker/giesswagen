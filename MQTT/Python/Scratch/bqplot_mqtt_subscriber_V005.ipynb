{
 "cells": [
  {
   "cell_type": "code",
   "execution_count": 1,
   "id": "514bf753-cb8e-4c1c-8102-2792032aaeb2",
   "metadata": {},
   "outputs": [],
   "source": [
    "BROKER = \"mqtt.eclipseprojects.io\"\n",
    "TOPIC = \"gw01/duese03\"\n",
    "\n",
    "#BROKER = \"broker.hivemq.com\"\n",
    "#TOPIC = \"gw01/duese02\"\n",
    "\n",
    "# BROKER = \"kleve.cool\"\n",
    "# TOPIC = \"gw/rolf\"\n",
    "USER = \"pub\"\n",
    "PW = \"pub\"\n",
    "\n",
    "import paho.mqtt.client as mqtt\n",
    "import numpy as np\n",
    "#from numpy import zeros\n",
    "import bqplot.pyplot as plt\n",
    "from bqplot import LinearScale\n",
    "from IPython.display import display, clear_output\n",
    "import ipywidgets as widgets"
   ]
  },
  {
   "cell_type": "code",
   "execution_count": 2,
   "id": "4739aa00-acef-4f71-bc57-63df43371b1b",
   "metadata": {},
   "outputs": [
    {
     "data": {
      "application/vnd.jupyter.widget-view+json": {
       "model_id": "c1ffcc424c844b209f6779fe2d96c87b",
       "version_major": 2,
       "version_minor": 0
      },
      "text/plain": [
       "Output(layout=Layout(border_bottom='1px solid black', border_left='1px solid black', border_right='1px solid b…"
      ]
     },
     "metadata": {},
     "output_type": "display_data"
    }
   ],
   "source": [
    "out = widgets.Output(layout={'border': '1px solid black'})\n",
    "out.append_stdout('HERE THE DECODED MQTT MESSAGES WILL BE SHOWN!\\n')\n",
    "display(out)"
   ]
  },
  {
   "cell_type": "code",
   "execution_count": 3,
   "id": "6890e4f5-7298-4399-b4ba-0cb4f3093e43",
   "metadata": {},
   "outputs": [],
   "source": [
    "N = 20\n",
    "\n",
    "t_data = np.array(np.zeros(N))  # Initialize with empty arrays\n",
    "x_data = np.array(np.zeros(N))  # Initialize with empty arrays\n",
    "z_data = np.array(np.zeros(N))  # Initialize with empty arrays\n",
    "\n",
    "data = np.array(np.zeros((N,3)))\n",
    "\n",
    "tup = (0, 0, 0)"
   ]
  },
  {
   "cell_type": "code",
   "execution_count": 4,
   "id": "bb945c9c-d423-419b-821f-2128c9304aea",
   "metadata": {},
   "outputs": [
    {
     "data": {
      "text/plain": [
       "array([[0., 0., 0.],\n",
       "       [0., 0., 0.],\n",
       "       [0., 0., 0.],\n",
       "       [0., 0., 0.],\n",
       "       [0., 0., 0.],\n",
       "       [0., 0., 0.],\n",
       "       [0., 0., 0.],\n",
       "       [0., 0., 0.],\n",
       "       [0., 0., 0.],\n",
       "       [0., 0., 0.],\n",
       "       [0., 0., 0.],\n",
       "       [0., 0., 0.],\n",
       "       [0., 0., 0.],\n",
       "       [0., 0., 0.],\n",
       "       [0., 0., 0.],\n",
       "       [0., 0., 0.],\n",
       "       [0., 0., 0.],\n",
       "       [0., 0., 0.],\n",
       "       [0., 0., 0.],\n",
       "       [0., 0., 0.]])"
      ]
     },
     "execution_count": 4,
     "metadata": {},
     "output_type": "execute_result"
    }
   ],
   "source": [
    "data"
   ]
  },
  {
   "cell_type": "code",
   "execution_count": 5,
   "id": "7b563d1f-f66c-4f6c-ab32-df6a7113762a",
   "metadata": {},
   "outputs": [
    {
     "data": {
      "application/vnd.jupyter.widget-view+json": {
       "model_id": "27f5dc928cb34cec9fb1c07581317d4d",
       "version_major": 2,
       "version_minor": 0
      },
      "text/plain": [
       "Figure(axes=[Axis(scale=LinearScale(max=410.0, min=-10.0)), Axis(orientation='vertical', scale=LinearScale(max…"
      ]
     },
     "metadata": {},
     "output_type": "display_data"
    }
   ],
   "source": [
    "\n",
    "fig = plt.figure(title='Plant Profile Scanner')\n",
    "x_scale = LinearScale(min=-10, max=410)  # Set the x-axis limits\n",
    "y_scale = LinearScale(min=0, max=300)  # Set the y-axis limits\n",
    "profile = plt.scatter(x=data[:,1], y=data[:,2], colors=['blue'], marker='circle', default_size=100, default_opacities=[1.0], display_legend=False, scales={'x': x_scale, 'y': y_scale})\n",
    "text_widget = plt.label(text = \"0.00 s\", x=[0.1], y=[0.1], colors=['black'])\n",
    "\n",
    "\n",
    "#plt.plot()\n",
    "\n",
    "i = 0\n",
    "t0 = traw = t = x = z = 0\n",
    "payload = \"\"\n",
    "#first = True\n",
    "\n",
    "def on_message(client, userdata, message):\n",
    "    global payload\n",
    "    global i, t, t0, x, z, traw\n",
    "    global t_data, x_data, z_data, data, tup\n",
    "    global first\n",
    "\n",
    "    # Parse the received message\n",
    "    payload = message.payload.decode('utf-8')\n",
    "    (traw, x, z) = map(float, payload.strip('()').split(','))\n",
    "\n",
    "    if (i==0): t0 = traw\n",
    "\n",
    "    t = traw - t0\n",
    "    \n",
    "    tup = (t, x, z)\n",
    "    \n",
    "    s = f\"{i:4d}  {t:12.2f}  {x:6.2f}  {z:6.2f}\"\n",
    "\n",
    "    i += 1\n",
    "\n",
    "    data = np.roll(data, -1, axis = 0)\n",
    "    data[-1,:] = tup\n",
    "    \n",
    "    profile.x = data[:,1]\n",
    "    profile.y = data[:,2]\n",
    "\n",
    "    # # Update the text widget with the latest 't' value\n",
    "    text_widget.text = f\"{t = :8.2f} s\"\n",
    "\n",
    "    # Refresh the plot\n",
    "#    clear_output(wait=True)\n",
    "#    display(fig)\n",
    "\n",
    "\n",
    "# MQTT setup\n",
    "def on_connect(client, userdata, flags, rc):\n",
    "    print(\"Connected with result code \" + str(rc))\n",
    "    out.append_stdout(\"Connected with result code \" + str(rc) + \"\\n\")\n",
    "\n",
    "client = mqtt.Client()\n",
    "\n",
    "client.on_connect = on_connect\n",
    "client.on_message = on_message\n",
    "\n",
    "client.username_pw_set(USER, PW)\n",
    "client.connect(BROKER, 1883, 60)\n",
    "\n",
    "client.subscribe(TOPIC)\n",
    "\n",
    "#while (client.is_connected == False): pass\n",
    "\n",
    "#out.append_stdout(\"MQTT Client connected.\\n\")\n",
    "\n",
    "# Start the MQTT client loop in the background\n",
    "client.loop_start()\n",
    "\n",
    "# Display the figure\n",
    "display(fig)\n"
   ]
  },
  {
   "cell_type": "code",
   "execution_count": 6,
   "id": "d4e77e55-0e8b-4c22-a7f9-1431ee3b6039",
   "metadata": {},
   "outputs": [
    {
     "data": {
      "text/plain": [
       "0"
      ]
     },
     "execution_count": 6,
     "metadata": {},
     "output_type": "execute_result"
    }
   ],
   "source": [
    "t"
   ]
  },
  {
   "cell_type": "code",
   "execution_count": 7,
   "id": "e131f90c-7075-46f8-870a-518034c62704",
   "metadata": {},
   "outputs": [
    {
     "data": {
      "text/plain": [
       "array([[0., 0., 0.],\n",
       "       [0., 0., 0.],\n",
       "       [0., 0., 0.],\n",
       "       [0., 0., 0.],\n",
       "       [0., 0., 0.],\n",
       "       [0., 0., 0.],\n",
       "       [0., 0., 0.],\n",
       "       [0., 0., 0.],\n",
       "       [0., 0., 0.],\n",
       "       [0., 0., 0.],\n",
       "       [0., 0., 0.],\n",
       "       [0., 0., 0.],\n",
       "       [0., 0., 0.],\n",
       "       [0., 0., 0.],\n",
       "       [0., 0., 0.],\n",
       "       [0., 0., 0.],\n",
       "       [0., 0., 0.],\n",
       "       [0., 0., 0.],\n",
       "       [0., 0., 0.],\n",
       "       [0., 0., 0.]])"
      ]
     },
     "execution_count": 7,
     "metadata": {},
     "output_type": "execute_result"
    }
   ],
   "source": [
    "data"
   ]
  },
  {
   "cell_type": "code",
   "execution_count": 8,
   "id": "84d9f3c5-f58e-424a-b2ab-56cccad7f497",
   "metadata": {},
   "outputs": [],
   "source": [
    "payload = \"2.3, 1.0, 2.0\""
   ]
  },
  {
   "cell_type": "code",
   "execution_count": 9,
   "id": "6854b9eb-6786-4047-9fa9-0f18a819f4ee",
   "metadata": {},
   "outputs": [],
   "source": [
    "(traw, x, z) = map(float, payload.strip('()').split(','))\n",
    "tup = (traw, x, z)"
   ]
  },
  {
   "cell_type": "code",
   "execution_count": 10,
   "id": "07ff9513-d680-49fe-bb9c-14dae3a275d9",
   "metadata": {},
   "outputs": [
    {
     "data": {
      "text/plain": [
       "(2.3, 1.0, 2.0)"
      ]
     },
     "execution_count": 10,
     "metadata": {},
     "output_type": "execute_result"
    }
   ],
   "source": [
    "tup"
   ]
  },
  {
   "cell_type": "code",
   "execution_count": null,
   "id": "8cf5c91f-9344-4eab-b638-f56adb011b26",
   "metadata": {},
   "outputs": [],
   "source": []
  }
 ],
 "metadata": {
  "kernelspec": {
   "display_name": "Python 3 (ipykernel)",
   "language": "python",
   "name": "python3"
  },
  "language_info": {
   "codemirror_mode": {
    "name": "ipython",
    "version": 3
   },
   "file_extension": ".py",
   "mimetype": "text/x-python",
   "name": "python",
   "nbconvert_exporter": "python",
   "pygments_lexer": "ipython3",
   "version": "3.11.4"
  }
 },
 "nbformat": 4,
 "nbformat_minor": 5
}
