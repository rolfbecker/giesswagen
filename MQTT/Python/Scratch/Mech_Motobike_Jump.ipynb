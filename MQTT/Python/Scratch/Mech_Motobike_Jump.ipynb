{
 "cells": [
  {
   "cell_type": "code",
   "execution_count": 2,
   "id": "d7fff857-c612-4322-a902-096e5ee0fb90",
   "metadata": {},
   "outputs": [],
   "source": [
    "# Import the libs we need later.\n",
    "import numpy as np\n",
    "import matplotlib.pyplot as plt\n",
    "from ipywidgets import interactive"
   ]
  },
  {
   "cell_type": "code",
   "execution_count": 6,
   "id": "a621e885-5189-4297-a3c9-96a980b0f375",
   "metadata": {},
   "outputs": [],
   "source": [
    "# This function determines s_x(t) and s_y(t), i.e. the trajectory\n",
    "def trajectory(t, v0, theta):\n",
    "    \n",
    "    g = 9.81\n",
    "    \n",
    "    th_rad = np.deg2rad(theta)\n",
    "    \n",
    "    sx = v0*np.cos(th_rad)*t\n",
    "    sy = -g/2 * t**2 + v0*np.sin(th_rad)*t \n",
    "               \n",
    "    return(sx,sy)"
   ]
  },
  {
   "cell_type": "code",
   "execution_count": 8,
   "id": "94b24a5a-e963-451b-b2f4-3fc16aa0928f",
   "metadata": {},
   "outputs": [],
   "source": [
    "def s_y(s_x, v0=10, theta=30):\n",
    "    \n",
    "    g = 9.81\n",
    "    \n",
    "    th_rad = np.deg2rad(theta)\n",
    "    \n",
    "    return -g/2*(s_x/(v0*np.cos(th_rad)))**2+s_x*np.tan(th_rad) "
   ]
  },
  {
   "cell_type": "code",
   "execution_count": 12,
   "id": "f86d5487-b1ac-43d2-be72-ecaecd462938",
   "metadata": {},
   "outputs": [],
   "source": [
    "def impact_time(h=4, v0=25, theta=30):\n",
    "    g = 9.81\n",
    "    a = g/2\n",
    "    b = -v0*np.sin(np.deg2rad(theta))\n",
    "    c = h\n",
    "    ti1 = (-b - np.sqrt(b**2-4*a*c))/(2*a) \n",
    "    ti2 = (-b + np.sqrt(b**2-4*a*c))/(2*a) \n",
    "    return(ti1, ti2)"
   ]
  },
  {
   "cell_type": "code",
   "execution_count": 9,
   "id": "2a8026d8-4340-4719-8c64-ccafc1c798b9",
   "metadata": {},
   "outputs": [],
   "source": [
    "# time array\n",
    "t = np.arange(0.,5.0001,0.05)\n",
    "\n",
    "# x-coord array for parabola s_y(s_x)\n",
    "s_x = np.arange(0.,80.0001,1.)"
   ]
  },
  {
   "cell_type": "code",
   "execution_count": 10,
   "id": "d0ea0e43-7430-4199-b44c-589cf345f470",
   "metadata": {},
   "outputs": [],
   "source": [
    "def plotter1(v0=15., theta=30., L=8., h=4.): # parameters with initial values\n",
    "        \n",
    "    fig1, ax1 = plt.subplots(figsize=(12,3), dpi=150)\n",
    "\n",
    "    ax1.set_aspect('equal', 'box')\n",
    "    fig1.tight_layout()\n",
    "    \n",
    "    ax1.fill_between([L, 100], [h, h], [0, 0], color = 'y', label=\"platform\")\n",
    "    \n",
    "    sx,sy = trajectory(t,v0,theta)\n",
    "    ax1.plot(sx,sy, label=r\"$\\vec{s}(t)$ trajectory\")\n",
    "    \n",
    "    ax1.plot(s_x, s_y(s_x,v0,theta), \".\", label=\"$s_y(s_x)$ parabola\")\n",
    "    \n",
    "    H = L*np.tan(np.deg2rad(theta))\n",
    "    ax1.plot([0,L,L],[0,H,0],\"--r\", label=r\"$\\vec{v}_0$ slope triangle\")\n",
    "    \n",
    "    # plot impact point\n",
    "    syL = s_y(L, v0, theta)\n",
    "    \n",
    "    if (syL < h): # it crashes into the side of the platform\n",
    "        ax1.plot(L,syL, \"*k\", label = \"crash point\")\n",
    "        warntext = \"CRASH!\"\n",
    "        \n",
    "    else: # it can land on the platform\n",
    "        ti1,ti2 = impact_time(h, v0, theta)\n",
    "        sxi,syi = trajectory(ti2, v0, theta)\n",
    "        ax1.plot(sxi, syi, \"og\", label = \"landing point\")\n",
    "        warntext = \"Landing :-)\"\n",
    "        \n",
    "    \n",
    "    ax1.set_xlabel(r\"x in m\")\n",
    "    ax1.set_ylabel(r\"y in m\")\n",
    "    \n",
    "    ax1.set_title(\"Jump with the motobike onto the platform. Do not crash!\")\n",
    "    \n",
    "    ax1.set_xlim(0,80)\n",
    "    ax1.set_ylim(0,20)\n",
    "    \n",
    "    v0_kmh = v0*3.6\n",
    "\n",
    "    paramtext =  f\"$v_0$={v0:.1f}m/s={v0_kmh:.1f}km/h\" + \"\\n\\n\" + f\"$\\Theta$={theta:.1f}°\" + \"\\n\\n\" + f\"$L$={L:.1f}m\" + \"\\n\\n\" + f\"$h$={h:.1f}m\"  \n",
    "    ax1.text(21, 8, paramtext, fontsize=10)\n",
    "\n",
    "    ax1.text(41,15.5, warntext, fontsize=16)\n",
    "    \n",
    "    ax1.legend(loc=\"upper left\")\n",
    "    \n",
    "    ax1.grid(True)\n",
    "    \n",
    "    plt.plot()"
   ]
  },
  {
   "cell_type": "code",
   "execution_count": 11,
   "id": "3853af66-b8c2-46a8-80d8-5230b0914f41",
   "metadata": {},
   "outputs": [
    {
     "data": {
      "application/vnd.jupyter.widget-view+json": {
       "model_id": "be75ab871c414900a31a34e6ac3eff21",
       "version_major": 2,
       "version_minor": 0
      },
      "text/plain": [
       "interactive(children=(FloatSlider(value=15.0, description='v0', max=30.0, min=1.0), FloatSlider(value=30.0, de…"
      ]
     },
     "execution_count": 11,
     "metadata": {},
     "output_type": "execute_result"
    }
   ],
   "source": [
    "# initialize the interactive plot\n",
    "iplot1 = interactive(\n",
    "    plotter1, \n",
    "    v0=(1.,30.,0.1),\n",
    "    theta=(0.,45.,1.),\n",
    "    L=(0.,20.,1.),\n",
    "    h=(0.,10.,1.)\n",
    ")\n",
    "\n",
    "# start the interactive plot\n",
    "iplot1"
   ]
  },
  {
   "cell_type": "code",
   "execution_count": null,
   "id": "fe3c20be-752a-47bb-92ba-5c191e9709ce",
   "metadata": {},
   "outputs": [],
   "source": []
  }
 ],
 "metadata": {
  "kernelspec": {
   "display_name": "Python 3 (ipykernel)",
   "language": "python",
   "name": "python3"
  },
  "language_info": {
   "codemirror_mode": {
    "name": "ipython",
    "version": 3
   },
   "file_extension": ".py",
   "mimetype": "text/x-python",
   "name": "python",
   "nbconvert_exporter": "python",
   "pygments_lexer": "ipython3",
   "version": "3.11.4"
  }
 },
 "nbformat": 4,
 "nbformat_minor": 5
}
