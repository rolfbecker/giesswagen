{
 "cells": [
  {
   "cell_type": "markdown",
   "id": "9a803b4f-8cb5-4007-918c-717958691039",
   "metadata": {},
   "source": [
    "# bqplot Subscriber for Gießwagen\n",
    "\n",
    "* class with traitlets"
   ]
  },
  {
   "cell_type": "code",
   "execution_count": 1,
   "id": "514bf753-cb8e-4c1c-8102-2792032aaeb2",
   "metadata": {},
   "outputs": [],
   "source": [
    "BROKER = \"mqtt.eclipseprojects.io\"\n",
    "TOPIC = \"gw01/duese03\"\n",
    "\n",
    "#BROKER = \"broker.hivemq.com\"\n",
    "#TOPIC = \"gw01/duese02\"\n",
    "\n",
    "# BROKER = \"kleve.cool\"\n",
    "# TOPIC = \"gw/rolf\"\n",
    "USER = \"pub\"\n",
    "PW = \"pub\"\n",
    "\n",
    "import paho.mqtt.client as mqtt\n",
    "import numpy as np\n",
    "#from numpy import zeros\n",
    "import bqplot.pyplot as plt\n",
    "from bqplot import LinearScale\n",
    "from IPython.display import display, clear_output\n",
    "import ipywidgets as widgets"
   ]
  },
  {
   "cell_type": "code",
   "execution_count": 2,
   "id": "4739aa00-acef-4f71-bc57-63df43371b1b",
   "metadata": {},
   "outputs": [
    {
     "data": {
      "application/vnd.jupyter.widget-view+json": {
       "model_id": "04bdfae36c9142ef88b363824edcc5b3",
       "version_major": 2,
       "version_minor": 0
      },
      "text/plain": [
       "Output(layout=Layout(border_bottom='1px solid black', border_left='1px solid black', border_right='1px solid b…"
      ]
     },
     "metadata": {},
     "output_type": "display_data"
    }
   ],
   "source": [
    "out = widgets.Output(layout={'border': '1px solid black'})\n",
    "out.append_stdout('HERE THE DECODED MQTT MESSAGES WILL BE SHOWN!\\n')\n",
    "display(out)"
   ]
  },
  {
   "cell_type": "code",
   "execution_count": 3,
   "id": "6890e4f5-7298-4399-b4ba-0cb4f3093e43",
   "metadata": {},
   "outputs": [
    {
     "data": {
      "text/plain": [
       "array([[ 0.,  0.,  0.],\n",
       "       [ 0.,  5.,  0.],\n",
       "       [ 0., 10.,  0.],\n",
       "       [ 0., 15.,  0.],\n",
       "       [ 0., 20.,  0.],\n",
       "       [ 0., 25.,  0.],\n",
       "       [ 0., 30.,  0.],\n",
       "       [ 0., 35.,  0.],\n",
       "       [ 0., 40.,  0.],\n",
       "       [ 0., 45.,  0.],\n",
       "       [ 0., 50.,  0.],\n",
       "       [ 0., 55.,  0.],\n",
       "       [ 0., 60.,  0.],\n",
       "       [ 0., 65.,  0.],\n",
       "       [ 0., 70.,  0.],\n",
       "       [ 0., 75.,  0.],\n",
       "       [ 0., 80.,  0.],\n",
       "       [ 0., 85.,  0.],\n",
       "       [ 0., 90.,  0.],\n",
       "       [ 0., 95.,  0.]])"
      ]
     },
     "execution_count": 3,
     "metadata": {},
     "output_type": "execute_result"
    }
   ],
   "source": [
    "N = 20\n",
    "\n",
    "x = np.arange(0,N)*5 #5mm resol.\n",
    "t = z = np.zeros(N)\n",
    "\n",
    "data = np.array([t,x,z]).T\n",
    "\n",
    "tup = (0, 0, 0)\n",
    "\n",
    "data"
   ]
  },
  {
   "cell_type": "code",
   "execution_count": 4,
   "id": "1d6150aa-8526-48b7-b5b8-43215eb7364c",
   "metadata": {},
   "outputs": [],
   "source": [
    "fig = plt.figure(title='Plant Profile Scanner')\n",
    "x_scale = LinearScale(min=-10, max=1010)  # Set the x-axis limits\n",
    "y_scale = LinearScale(min=0, max=300)  # Set the y-axis limits\n",
    "profile = plt.scatter(x=data[:,1], y=data[:,2], colors=['blue'], marker='circle', default_size=100, default_opacities=[1.0], display_legend=False, scales={'x': x_scale, 'y': y_scale})\n",
    "text_widget = plt.label(text = \"0.00 s\", x=[0.1], y=[0.1], colors=['black'])"
   ]
  },
  {
   "cell_type": "code",
   "execution_count": 5,
   "id": "9bae54fb-6bc4-48bf-97dd-9b88e546ae5f",
   "metadata": {},
   "outputs": [
    {
     "data": {
      "application/vnd.jupyter.widget-view+json": {
       "model_id": "091ee8b45d4643eea1bc04938fb71fda",
       "version_major": 2,
       "version_minor": 0
      },
      "text/plain": [
       "Figure(axes=[Axis(scale=LinearScale(max=1010.0, min=-10.0)), Axis(orientation='vertical', scale=LinearScale(ma…"
      ]
     },
     "metadata": {},
     "output_type": "display_data"
    }
   ],
   "source": [
    "display(fig)"
   ]
  },
  {
   "cell_type": "code",
   "execution_count": 6,
   "id": "7b563d1f-f66c-4f6c-ab32-df6a7113762a",
   "metadata": {},
   "outputs": [
    {
     "data": {
      "application/vnd.jupyter.widget-view+json": {
       "model_id": "091ee8b45d4643eea1bc04938fb71fda",
       "version_major": 2,
       "version_minor": 0
      },
      "text/plain": [
       "Figure(axes=[Axis(scale=LinearScale(max=1010.0, min=-10.0)), Axis(orientation='vertical', scale=LinearScale(ma…"
      ]
     },
     "metadata": {},
     "output_type": "display_data"
    }
   ],
   "source": [
    "\n",
    "def on_message(client, userdata, message):\n",
    "#    global payload\n",
    "    global i, t, t0, x, z, traw\n",
    "    global data, tup\n",
    "\n",
    "    # Parse the received message\n",
    "    payload = message.payload.decode('utf-8')\n",
    "    (traw, x, z) = map(float, payload.strip('()').split(','))\n",
    "\n",
    "    if (i==0): t0 = traw\n",
    "\n",
    "    t = traw - t0\n",
    "    \n",
    "    tup = (t, x, z)\n",
    "    \n",
    "    s = f\"{i:4d}  {t:12.2f}  {x:6.2f}  {z:6.2f}\"\n",
    "\n",
    "    i += 1\n",
    "\n",
    "    data = np.roll(data, -1, axis = 0)\n",
    "    data[-1,:] = tup\n",
    "\n",
    "    with profile.hold_sync():\n",
    "        profile.x = data[:,1]\n",
    "        profile.y = data[:,2]\n",
    "\n",
    "    # # Update the text widget with the latest 't' value\n",
    "    text_widget.text = f\"{t = :8.2f} s\"\n",
    "\n",
    "\n",
    "# MQTT setup\n",
    "def on_connect(client, userdata, flags, rc):\n",
    "    print(\"Connected with result code \" + str(rc))\n",
    "    out.append_stdout(\"Connected with result code \" + str(rc) + \"\\n\")\n",
    "\n",
    "client = mqtt.Client()\n",
    "\n",
    "client.on_connect = on_connect\n",
    "client.on_message = on_message\n",
    "\n",
    "client.username_pw_set(USER, PW)\n",
    "client.connect(BROKER, 1883, 60)\n",
    "\n",
    "client.subscribe(TOPIC)\n",
    "\n",
    "client.loop_start()\n",
    "\n",
    "# Display the figure\n",
    "display(fig)\n"
   ]
  },
  {
   "cell_type": "code",
   "execution_count": 7,
   "id": "d4e77e55-0e8b-4c22-a7f9-1431ee3b6039",
   "metadata": {},
   "outputs": [
    {
     "data": {
      "text/plain": [
       "array([0., 0., 0., 0., 0., 0., 0., 0., 0., 0., 0., 0., 0., 0., 0., 0., 0.,\n",
       "       0., 0., 0.])"
      ]
     },
     "execution_count": 7,
     "metadata": {},
     "output_type": "execute_result"
    }
   ],
   "source": [
    "t"
   ]
  },
  {
   "cell_type": "code",
   "execution_count": 8,
   "id": "e131f90c-7075-46f8-870a-518034c62704",
   "metadata": {},
   "outputs": [
    {
     "data": {
      "text/plain": [
       "array([[ 0.,  0.,  0.],\n",
       "       [ 0.,  5.,  0.],\n",
       "       [ 0., 10.,  0.],\n",
       "       [ 0., 15.,  0.],\n",
       "       [ 0., 20.,  0.],\n",
       "       [ 0., 25.,  0.],\n",
       "       [ 0., 30.,  0.],\n",
       "       [ 0., 35.,  0.],\n",
       "       [ 0., 40.,  0.],\n",
       "       [ 0., 45.,  0.],\n",
       "       [ 0., 50.,  0.],\n",
       "       [ 0., 55.,  0.],\n",
       "       [ 0., 60.,  0.],\n",
       "       [ 0., 65.,  0.],\n",
       "       [ 0., 70.,  0.],\n",
       "       [ 0., 75.,  0.],\n",
       "       [ 0., 80.,  0.],\n",
       "       [ 0., 85.,  0.],\n",
       "       [ 0., 90.,  0.],\n",
       "       [ 0., 95.,  0.]])"
      ]
     },
     "execution_count": 8,
     "metadata": {},
     "output_type": "execute_result"
    }
   ],
   "source": [
    "data"
   ]
  },
  {
   "cell_type": "code",
   "execution_count": 9,
   "id": "84d9f3c5-f58e-424a-b2ab-56cccad7f497",
   "metadata": {},
   "outputs": [],
   "source": [
    "payload = \"2.3, 1.0, 2.0\""
   ]
  },
  {
   "cell_type": "code",
   "execution_count": 10,
   "id": "6854b9eb-6786-4047-9fa9-0f18a819f4ee",
   "metadata": {},
   "outputs": [],
   "source": [
    "(traw, x, z) = map(float, payload.strip('()').split(','))\n",
    "tup = (traw, x, z)"
   ]
  },
  {
   "cell_type": "code",
   "execution_count": 11,
   "id": "07ff9513-d680-49fe-bb9c-14dae3a275d9",
   "metadata": {},
   "outputs": [
    {
     "data": {
      "text/plain": [
       "(2.3, 1.0, 2.0)"
      ]
     },
     "execution_count": 11,
     "metadata": {},
     "output_type": "execute_result"
    }
   ],
   "source": [
    "tup"
   ]
  },
  {
   "cell_type": "code",
   "execution_count": null,
   "id": "8cf5c91f-9344-4eab-b638-f56adb011b26",
   "metadata": {},
   "outputs": [],
   "source": []
  }
 ],
 "metadata": {
  "kernelspec": {
   "display_name": "Python 3 (ipykernel)",
   "language": "python",
   "name": "python3"
  },
  "language_info": {
   "codemirror_mode": {
    "name": "ipython",
    "version": 3
   },
   "file_extension": ".py",
   "mimetype": "text/x-python",
   "name": "python",
   "nbconvert_exporter": "python",
   "pygments_lexer": "ipython3",
   "version": "3.11.4"
  }
 },
 "nbformat": 4,
 "nbformat_minor": 5
}
