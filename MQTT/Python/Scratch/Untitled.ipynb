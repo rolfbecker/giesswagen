{
 "cells": [
  {
   "cell_type": "code",
   "execution_count": 1,
   "id": "2d574818-0867-4ee4-96a0-d01dab84d52e",
   "metadata": {},
   "outputs": [],
   "source": [
    "from bqplot import (\n",
    "    LinearScale,\n",
    "    Axis,\n",
    "    Figure,\n",
    "    OrdinalScale,\n",
    "    LinearScale,\n",
    "    Bars,\n",
    "    Lines,\n",
    "    Scatter,\n",
    ")"
   ]
  },
  {
   "cell_type": "code",
   "execution_count": 6,
   "id": "4fdcd9ca-fab2-46b6-b604-2f3a91390765",
   "metadata": {},
   "outputs": [
    {
     "data": {
      "application/vnd.jupyter.widget-view+json": {
       "model_id": "7449560f8309470795990b3109e56106",
       "version_major": 2,
       "version_minor": 0
      },
      "text/plain": [
       "Figure(axes=[Axis(label='X', scale=LinearScale(max=410.0, min=-10.0)), Axis(label='Y', orientation='vertical',…"
      ]
     },
     "execution_count": 6,
     "metadata": {},
     "output_type": "execute_result"
    }
   ],
   "source": [
    "import numpy as np\n",
    "\n",
    "x = np.linspace(-10, 10, 100)\n",
    "y = np.sin(x)\n",
    "\n",
    "# 1. Create the scales\n",
    "xs = LinearScale(min=-10, max = 410)\n",
    "ys = LinearScale()\n",
    "\n",
    "# 2. Create the axes for x and y\n",
    "xax = Axis(scale=xs, label=\"X\")\n",
    "yax = Axis(scale=ys, orientation=\"vertical\", label=\"Y\")\n",
    "\n",
    "# 3. Create a Lines mark by passing in the scales\n",
    "# note that Lines object is stored in `line` which can be used later to update the plot\n",
    "line = Lines(x=x, y=y, scales={\"x\": xs, \"y\": ys})\n",
    "\n",
    "# 4. Create a Figure object by assembling marks and axes\n",
    "fig = Figure(marks=[line], axes=[xax, yax], title=\"Simple Line Chart\")\n",
    "\n",
    "# 5. Render the figure using display or just as is\n",
    "fig"
   ]
  },
  {
   "cell_type": "code",
   "execution_count": 7,
   "id": "e7703329-a780-4e24-9f77-f4f816f48bbb",
   "metadata": {},
   "outputs": [],
   "source": [
    "x = np.arange(10)"
   ]
  },
  {
   "cell_type": "code",
   "execution_count": 8,
   "id": "f32e9092-ef24-494b-836d-54dafe77fc69",
   "metadata": {},
   "outputs": [
    {
     "data": {
      "text/plain": [
       "array([0, 1, 2, 3, 4, 5, 6, 7, 8, 9])"
      ]
     },
     "execution_count": 8,
     "metadata": {},
     "output_type": "execute_result"
    }
   ],
   "source": [
    "x"
   ]
  },
  {
   "cell_type": "code",
   "execution_count": 9,
   "id": "55015575-3bc4-4ca5-9c52-3f79c593d90f",
   "metadata": {},
   "outputs": [],
   "source": [
    "x2 = np.reshape(x, (2, 5))"
   ]
  },
  {
   "cell_type": "code",
   "execution_count": 10,
   "id": "a3c85fa5-98b3-47cf-a03f-4260d8375b67",
   "metadata": {},
   "outputs": [
    {
     "data": {
      "text/plain": [
       "array([[0, 1, 2, 3, 4],\n",
       "       [5, 6, 7, 8, 9]])"
      ]
     },
     "execution_count": 10,
     "metadata": {},
     "output_type": "execute_result"
    }
   ],
   "source": [
    "x2"
   ]
  },
  {
   "cell_type": "code",
   "execution_count": 12,
   "id": "9f803855-5885-4327-a93f-6dafb032e298",
   "metadata": {},
   "outputs": [
    {
     "data": {
      "text/plain": [
       "array([[1, 2, 3, 4, 0],\n",
       "       [6, 7, 8, 9, 5]])"
      ]
     },
     "execution_count": 12,
     "metadata": {},
     "output_type": "execute_result"
    }
   ],
   "source": [
    "np.roll(x2, -1, axis=1)"
   ]
  },
  {
   "cell_type": "code",
   "execution_count": 13,
   "id": "dcf82fb3-e537-4660-b17a-ebc99581c7c0",
   "metadata": {},
   "outputs": [
    {
     "data": {
      "text/plain": [
       "array([[5, 6, 7, 8, 9]])"
      ]
     },
     "execution_count": 13,
     "metadata": {},
     "output_type": "execute_result"
    }
   ],
   "source": [
    "x2[1:]"
   ]
  },
  {
   "cell_type": "code",
   "execution_count": 14,
   "id": "d123f81b-0917-417f-9427-e048339db28f",
   "metadata": {},
   "outputs": [],
   "source": [
    "N = 10\n",
    "data = np.array(np.zeros((N,3)))"
   ]
  },
  {
   "cell_type": "code",
   "execution_count": 15,
   "id": "dba137a5-4817-4b68-a228-3c8bd40d4a9a",
   "metadata": {},
   "outputs": [
    {
     "data": {
      "text/plain": [
       "array([[0., 0., 0.],\n",
       "       [0., 0., 0.],\n",
       "       [0., 0., 0.],\n",
       "       [0., 0., 0.],\n",
       "       [0., 0., 0.],\n",
       "       [0., 0., 0.],\n",
       "       [0., 0., 0.],\n",
       "       [0., 0., 0.],\n",
       "       [0., 0., 0.],\n",
       "       [0., 0., 0.]])"
      ]
     },
     "execution_count": 15,
     "metadata": {},
     "output_type": "execute_result"
    }
   ],
   "source": [
    "data"
   ]
  },
  {
   "cell_type": "code",
   "execution_count": 16,
   "id": "6561b680-b885-4dba-9602-4a3ebd96613a",
   "metadata": {},
   "outputs": [],
   "source": [
    "data[-1,:] = (1,2,3)"
   ]
  },
  {
   "cell_type": "code",
   "execution_count": 17,
   "id": "1668bb90-8b4e-4eb8-9e81-50ef94fd8aec",
   "metadata": {},
   "outputs": [
    {
     "data": {
      "text/plain": [
       "array([[0., 0., 0.],\n",
       "       [0., 0., 0.],\n",
       "       [0., 0., 0.],\n",
       "       [0., 0., 0.],\n",
       "       [0., 0., 0.],\n",
       "       [0., 0., 0.],\n",
       "       [0., 0., 0.],\n",
       "       [0., 0., 0.],\n",
       "       [0., 0., 0.],\n",
       "       [1., 2., 3.]])"
      ]
     },
     "execution_count": 17,
     "metadata": {},
     "output_type": "execute_result"
    }
   ],
   "source": [
    "data"
   ]
  },
  {
   "cell_type": "code",
   "execution_count": 18,
   "id": "ff4a2f20-7002-44be-afa0-5171d896022b",
   "metadata": {},
   "outputs": [],
   "source": [
    "data = np.roll(data, -1, axis = 0)"
   ]
  },
  {
   "cell_type": "code",
   "execution_count": 19,
   "id": "37d7eb45-c8f6-45dd-9b50-5953eb8a8846",
   "metadata": {},
   "outputs": [
    {
     "data": {
      "text/plain": [
       "array([[0., 0., 0.],\n",
       "       [0., 0., 0.],\n",
       "       [0., 0., 0.],\n",
       "       [0., 0., 0.],\n",
       "       [0., 0., 0.],\n",
       "       [0., 0., 0.],\n",
       "       [0., 0., 0.],\n",
       "       [0., 0., 0.],\n",
       "       [1., 2., 3.],\n",
       "       [0., 0., 0.]])"
      ]
     },
     "execution_count": 19,
     "metadata": {},
     "output_type": "execute_result"
    }
   ],
   "source": [
    "data"
   ]
  },
  {
   "cell_type": "code",
   "execution_count": null,
   "id": "e3f46729-7538-49f2-87b5-3e6cb6928196",
   "metadata": {},
   "outputs": [],
   "source": []
  }
 ],
 "metadata": {
  "kernelspec": {
   "display_name": "Python 3 (ipykernel)",
   "language": "python",
   "name": "python3"
  },
  "language_info": {
   "codemirror_mode": {
    "name": "ipython",
    "version": 3
   },
   "file_extension": ".py",
   "mimetype": "text/x-python",
   "name": "python",
   "nbconvert_exporter": "python",
   "pygments_lexer": "ipython3",
   "version": "3.11.4"
  }
 },
 "nbformat": 4,
 "nbformat_minor": 5
}
