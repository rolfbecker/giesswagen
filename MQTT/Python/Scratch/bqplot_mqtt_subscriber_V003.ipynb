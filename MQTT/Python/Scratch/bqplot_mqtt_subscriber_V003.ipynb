{
 "cells": [
  {
   "cell_type": "code",
   "execution_count": 1,
   "id": "514bf753-cb8e-4c1c-8102-2792032aaeb2",
   "metadata": {},
   "outputs": [],
   "source": [
    "BROKER = \"mqtt.eclipseprojects.io\"\n",
    "TOPIC = \"/gw01/duese03\"\n",
    "\n",
    "#BROKER = \"broker.hivemq.com\"\n",
    "#TOPIC = \"/gw01/duese02\"\n",
    "\n",
    "import paho.mqtt.client as mqtt\n",
    "import numpy as np\n",
    "#from numpy import zeros\n",
    "import bqplot.pyplot as plt\n",
    "from IPython.display import display, clear_output\n",
    "import ipywidgets as widgets"
   ]
  },
  {
   "cell_type": "code",
   "execution_count": 2,
   "id": "7a63601b-1645-49a5-94ea-df7e25d56bbe",
   "metadata": {},
   "outputs": [],
   "source": [
    "from bqplot import (\n",
    "    LinearScale,\n",
    "    Axis,\n",
    "    Figure,\n",
    "    OrdinalScale,\n",
    "    LinearScale,\n",
    "    Bars,\n",
    "    Lines,\n",
    "    Scatter,\n",
    ")"
   ]
  },
  {
   "cell_type": "code",
   "execution_count": 3,
   "id": "4739aa00-acef-4f71-bc57-63df43371b1b",
   "metadata": {},
   "outputs": [
    {
     "data": {
      "application/vnd.jupyter.widget-view+json": {
       "model_id": "cb6dc53a55b047ce82f44dea157b4cb0",
       "version_major": 2,
       "version_minor": 0
      },
      "text/plain": [
       "Output(layout=Layout(border_bottom='1px solid black', border_left='1px solid black', border_right='1px solid b…"
      ]
     },
     "metadata": {},
     "output_type": "display_data"
    }
   ],
   "source": [
    "out = widgets.Output(layout={'border': '1px solid black'})\n",
    "out.append_stdout('HERE THE DECODED MQTT MESSAGES WILL BE SHOWN!\\n')\n",
    "display(out)"
   ]
  },
  {
   "cell_type": "code",
   "execution_count": 7,
   "id": "7b563d1f-f66c-4f6c-ab32-df6a7113762a",
   "metadata": {},
   "outputs": [
    {
     "data": {
      "application/vnd.jupyter.widget-view+json": {
       "model_id": "03adc73d4994438793acd30d5c5bf322",
       "version_major": 2,
       "version_minor": 0
      },
      "text/plain": [
       "Figure(axes=[Axis(label='X', scale=LinearScale(max=410.0, min=-10.0)), Axis(label='Z', orientation='vertical',…"
      ]
     },
     "metadata": {},
     "output_type": "display_data"
    }
   ],
   "source": [
    "# Create an initial empty line plot\n",
    "# x_data = np.array([])  # Initialize with empty arrays\n",
    "# z_data = np.array([])\n",
    "# t_data = np.array([])\n",
    "\n",
    "N = 20\n",
    "\n",
    "x_data = np.array(np.arange(0,N)*5.)  # Initialize with empty arrays\n",
    "z_data = np.array(np.zeros(N))  # Initialize with empty arrays\n",
    "t_data = np.array(np.zeros(N))  # Initialize with empty arrays\n",
    "\n",
    "\n",
    "xsc = LinearScale(min = -10, max = 410)\n",
    "ysc = LinearScale(min = 0, max = 2)\n",
    "\n",
    "# 2. Create the axes for x and y\n",
    "xax = Axis(scale = xsc, label = \"X\")\n",
    "yax = Axis(scale = ysc, orientation = \"vertical\", label = \"Z\")\n",
    "\n",
    "# 3. Create a Lines mark by passing in the scales\n",
    "# note that Lines object is stored in `line` which can be used later to update the plot\n",
    "line = Lines(x = x_data, y = z_data, scales={\"x\": xsc, \"y\": ysc})\n",
    "\n",
    "# 4. Create a Figure object by assembling marks and axes\n",
    "fig = Figure(marks=[line], axes=[xax, yax], title=\"Simple Line Chart\")\n",
    "\n",
    "# 5. Render the figure using display or just as is\n",
    "#display(fig)\n",
    "\n",
    "i = 0\n",
    "t = x = z = 0\n",
    "payload = \"\"\n",
    "\n",
    "def on_message(client, userdata, message):\n",
    "    global i\n",
    "    global payload\n",
    "    global t,x,z\n",
    "    global x_data\n",
    "    global z_data\n",
    "    global t_data\n",
    "    global line\n",
    "    \n",
    "    # Parse the received message\n",
    "    payload = message.payload.decode('utf-8')\n",
    "    t, x, z = map(float, payload.strip('()').split(','))\n",
    "    s = f\"{i:4d}  {t:12.2f}  {x:6.2f}  {z:6.2f}\"\n",
    "    i+=1\n",
    "\n",
    "#    print(s)\n",
    "#    out.append_stdout(s+\"\\n\")\n",
    "\n",
    "    # Append the new data point to the existing data\n",
    "\n",
    "    # x_data = np.append(x_data, x)\n",
    "    # z_data = np.append(z_data, z)\n",
    "    # t_data = np.append(t_data, t)\n",
    "\n",
    "    t_data = np.roll(t_data, -1); t_data[-1] = t    \n",
    "    x_data = np.roll(x_data, -1); x_data[-1] = x\n",
    "    z_data = np.roll(z_data, -1); z_data[-1] = z\n",
    "    \n",
    "    # # Update the line plot with new data\n",
    "    line.x = x_data\n",
    "    line.y = z_data\n",
    "\n",
    "    # # Update the text widget with the latest 't' value\n",
    "    text_widget.text = [f\"Latest t: {t_data[-1]-t_data[0]:.1f} s\"]\n",
    "\n",
    "    # Refresh the plot\n",
    "#    clear_output(wait=True)\n",
    "#    display(fig)\n",
    "\n",
    "# Initialize the MQTT client#\n",
    "client = mqtt.Client()\n",
    "client.on_message = on_message\n",
    "#clienbroker.hivemq.comprojects.io\", 1883, 60)\n",
    "#client.subscribe(\"/gw01/duese01\")\n",
    "client.connect(BROKER, 1883, 60)\n",
    "client.subscribe(TOPIC)\n",
    "\n",
    "while (client.is_connected == False): pass\n",
    "\n",
    "out.append_stdout(\"MQTT Client connected.\\n\")\n",
    "\n",
    "# Start the MQTT client loop in the background\n",
    "client.loop_start()\n",
    "\n",
    "# Display the figure\n",
    "display(fig)\n"
   ]
  },
  {
   "cell_type": "code",
   "execution_count": 5,
   "id": "d4e77e55-0e8b-4c22-a7f9-1431ee3b6039",
   "metadata": {},
   "outputs": [
    {
     "data": {
      "text/plain": [
       "20"
      ]
     },
     "execution_count": 5,
     "metadata": {},
     "output_type": "execute_result"
    }
   ],
   "source": [
    "len(z_data)"
   ]
  },
  {
   "cell_type": "code",
   "execution_count": 6,
   "id": "e131f90c-7075-46f8-870a-518034c62704",
   "metadata": {},
   "outputs": [
    {
     "data": {
      "text/plain": [
       "array([ 0.,  5., 10., 15., 20., 25., 30., 35., 40., 45., 50., 55., 60.,\n",
       "       65., 70., 75., 80., 85., 90., 95.])"
      ]
     },
     "execution_count": 6,
     "metadata": {},
     "output_type": "execute_result"
    }
   ],
   "source": [
    "x_data"
   ]
  },
  {
   "cell_type": "code",
   "execution_count": null,
   "id": "6e75cac8-5a5e-4459-ace3-1866a96aeca1",
   "metadata": {},
   "outputs": [],
   "source": []
  }
 ],
 "metadata": {
  "kernelspec": {
   "display_name": "Python 3 (ipykernel)",
   "language": "python",
   "name": "python3"
  },
  "language_info": {
   "codemirror_mode": {
    "name": "ipython",
    "version": 3
   },
   "file_extension": ".py",
   "mimetype": "text/x-python",
   "name": "python",
   "nbconvert_exporter": "python",
   "pygments_lexer": "ipython3",
   "version": "3.11.4"
  }
 },
 "nbformat": 4,
 "nbformat_minor": 5
}
