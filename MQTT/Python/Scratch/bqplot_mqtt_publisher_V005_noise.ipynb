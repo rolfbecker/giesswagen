{
 "cells": [
  {
   "cell_type": "markdown",
   "id": "10a7eb28-730a-46bc-bb6c-4ceb351ef9ca",
   "metadata": {},
   "source": [
    "# Data Sim V005\n",
    "\n",
    "* Dynamic noise, suited to do averaging in bins."
   ]
  },
  {
   "cell_type": "code",
   "execution_count": 1,
   "id": "847ea3be-ed24-4ae9-8963-5af19e6a68f2",
   "metadata": {},
   "outputs": [],
   "source": [
    "BROKER = \"mqtt.eclipseprojects.io\"\n",
    "TOPIC = \"gw01/duese03\"\n",
    "\n",
    "#BROKER = \"kleve.cool\"\n",
    "#TOPIC = \"gw/rolf\"\n",
    "\n",
    "USER = \"pub\"\n",
    "PW = \"pub\"\n",
    "\n",
    "STDDEV = 5.\n",
    "\n",
    "import numpy as np\n",
    "from bqplot import pyplot as plt, LinearScale\n",
    "from numpy import arange, pi, sin\n",
    "import ipywidgets as widgets\n",
    "from ipywidgets import VBox, HBox\n",
    "from IPython.display import display, clear_output\n",
    "import time\n",
    "import paho.mqtt.client as mqtt"
   ]
  },
  {
   "cell_type": "code",
   "execution_count": 2,
   "id": "49ac30ec-c8ce-499c-95d4-10d1635df141",
   "metadata": {},
   "outputs": [
    {
     "data": {
      "application/vnd.jupyter.widget-view+json": {
       "model_id": "08331b69573b4685bf15b0c5c60a9b21",
       "version_major": 2,
       "version_minor": 0
      },
      "text/plain": [
       "Output(layout=Layout(border_bottom='1px solid black', border_left='1px solid black', border_right='1px solid b…"
      ]
     },
     "metadata": {},
     "output_type": "display_data"
    }
   ],
   "source": [
    "out = widgets.Output(layout={'border': '1px solid black'})\n",
    "out.append_stdout('HERE SOME MESSAGES WILL BE SHOWN!\\n')\n",
    "display(out)"
   ]
  },
  {
   "cell_type": "code",
   "execution_count": 3,
   "id": "fa35dcb5-88ad-4ba7-a8d8-8162dba4407b",
   "metadata": {},
   "outputs": [
    {
     "data": {
      "application/vnd.jupyter.widget-view+json": {
       "model_id": "590a667bdc3f4c2cbd9c92fc87eabd3a",
       "version_major": 2,
       "version_minor": 0
      },
      "text/plain": [
       "VBox(children=(Figure(axes=[Axis(label='x', scale=LinearScale(max=1010.0, min=-10.0)), Axis(label='y', orienta…"
      ]
     },
     "metadata": {},
     "output_type": "display_data"
    }
   ],
   "source": [
    "# Given function\n",
    "def f(x, A=1, X=400, x0=0):\n",
    "    y = abs(A*sin(2*pi*1/X*(x-x0)))\n",
    "    y[y<0] = 0\n",
    "    return y\n",
    "\n",
    "# Data\n",
    "x = arange(0, 1000.1, 5)\n",
    "y = f(x, A=200, X=400)\n",
    "\n",
    "N = len(x)\n",
    "\n",
    "# Static moise\n",
    "# x = x + np.random.normal(0,5.,N)\n",
    "# y = y + np.random.normal(0,5.,N)\n",
    "\n",
    "y0 = 400\n",
    "\n",
    "# Create the figure and scales\n",
    "fig = plt.figure(title=\"Function f(x)\", animation_duration=0)\n",
    "\n",
    "x_scale = LinearScale(min = -10, max = 1010)\n",
    "y_scale = LinearScale(min = -10, max = 410)\n",
    "\n",
    "# Create the profile plot\n",
    "profile = plt.scatter(x, y, colors=['blue'], default_size = 20, labels=['f(x)'], scales={'x': x_scale, 'y': y_scale})\n",
    "plt.xlabel(\"x\")\n",
    "plt.ylabel(\"y\")\n",
    "\n",
    "xs = x[0]\n",
    "ys = y[0]\n",
    "\n",
    "# Create the sample vertical line plot\n",
    "beam = plt.plot([xs, xs], [y0, ys], colors=['red'], labels=['sample'], scales={'x': x_scale, 'y': y_scale})\n",
    "\n",
    "# Create the lower end symbol (open circle)\n",
    "lower_end_symbol = plt.scatter(x=[xs], y=[ys], marker='circle', colors=['red'], default_size = 50)\n",
    "upper_end_symbol = plt.scatter(x=[xs], y=[y0], marker='square', colors=['red'], default_size = 100)\n",
    "\n",
    "# sample point with noise\n",
    "sample_noisy = plt.scatter(x=[xs], y=[ys], marker='circle', colors=['black'], default_size = 50)\n",
    "\n",
    "# Create the slider\n",
    "slider = widgets.IntSlider(min = 0, max = N-1, value=0, description=\"Choose xs\", orientation=\"horizontal\")\n",
    "\n",
    "# MQTT setup\n",
    "def on_connect(client, userdata, flags, rc):\n",
    "#    print(\"Connected with result code \" + str(rc))\n",
    "    out.append_stdout(\"Connected with result code \" + str(rc) + \"\\n\")\n",
    "\n",
    "client = mqtt.Client()\n",
    "client.on_connect = on_connect\n",
    "\n",
    "client.username_pw_set(USER, PW)\n",
    "client.connect(BROKER, 1883, 60)\n",
    "#client.subscribe(TOPIC)\n",
    "\n",
    "client.loop_start()\n",
    "\n",
    "# Define the update function for the slider\n",
    "def update_x(change):\n",
    "    xs = x[change['new']]\n",
    "    ys = y[change['new']]\n",
    "    beam.x = [xs, xs]\n",
    "    beam.y = [y0, ys]\n",
    "    lower_end_symbol.x = [xs]\n",
    "    lower_end_symbol.y = [ys]\n",
    "    upper_end_symbol.x = [xs]\n",
    "    upper_end_symbol.y = [y0]\n",
    "\n",
    "    xs_noisy = xs + np.random.normal(0,STDDEV)\n",
    "    ys_noisy = ys + np.random.normal(0,STDDEV)\n",
    "\n",
    "    sample_noisy.x = [xs_noisy]\n",
    "    sample_noisy.y = [ys_noisy]\n",
    "                      \n",
    "\n",
    "    # Publish data over MQTT\n",
    "    t = time.time()\n",
    "\n",
    "#    data = \"{},{},{}\".format(t, xs, ys)\n",
    "    data = \"{},{},{}\".format(t, xs_noisy, ys_noisy)\n",
    "\n",
    "    client.publish(TOPIC, data)\n",
    "\n",
    "\n",
    "\n",
    "# Link the slider to the update function\n",
    "slider.observe(update_x, 'value')\n",
    "\n",
    "# Play function for automatic slider movement\n",
    "play = widgets.Play(min=0, max=len(x)-1, interval=100, description=\"Play\", step=1, continuous_update=False)\n",
    "\n",
    "# Update function for the play widget\n",
    "def update_play(change):\n",
    "    current_value = change['new']\n",
    "    max_value = change['owner'].max\n",
    "    min_value = change['owner'].min\n",
    "\n",
    "    # Check if reached the limit\n",
    "    if current_value >= max_value:\n",
    "        change['owner'].step = -1\n",
    "    elif current_value <= min_value:\n",
    "        change['owner'].step = 1\n",
    "\n",
    "# Link the play widget to the update function\n",
    "play.observe(update_play, 'value')\n",
    "\n",
    "# Join the play widget and slider using jslink\n",
    "widgets.jslink((play, 'value'), (slider, 'value'))\n",
    "\n",
    "# Arrange the slider and play button side by side\n",
    "controls = HBox([slider, play])\n",
    "\n",
    "# Display the plot and controls together using VBox\n",
    "display(VBox([fig, controls]))\n"
   ]
  },
  {
   "cell_type": "code",
   "execution_count": null,
   "id": "d2418365-432d-48ff-bb48-892e413f9f2d",
   "metadata": {},
   "outputs": [],
   "source": []
  }
 ],
 "metadata": {
  "kernelspec": {
   "display_name": "Python 3 (ipykernel)",
   "language": "python",
   "name": "python3"
  },
  "language_info": {
   "codemirror_mode": {
    "name": "ipython",
    "version": 3
   },
   "file_extension": ".py",
   "mimetype": "text/x-python",
   "name": "python",
   "nbconvert_exporter": "python",
   "pygments_lexer": "ipython3",
   "version": "3.11.4"
  }
 },
 "nbformat": 4,
 "nbformat_minor": 5
}
