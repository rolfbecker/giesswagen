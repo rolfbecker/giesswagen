{
 "cells": [
  {
   "cell_type": "code",
   "execution_count": 1,
   "id": "514bf753-cb8e-4c1c-8102-2792032aaeb2",
   "metadata": {},
   "outputs": [],
   "source": [
    "#BROKER = \"mqtt.eclipseprojects.io\"\n",
    "#TOPIC = \"gw01/duese03\"\n",
    "\n",
    "#BROKER = \"broker.hivemq.com\"\n",
    "#TOPIC = \"gw01/duese02\"\n",
    "\n",
    "BROKER = \"kleve.cool\"\n",
    "TOPIC = \"gw/duese002\"\n",
    "USER = \"pub\"\n",
    "PW = \"pub\"\n",
    "\n",
    "import paho.mqtt.client as mqtt\n",
    "import numpy as np\n",
    "#from numpy import zeros\n",
    "import bqplot.pyplot as plt\n",
    "from bqplot import LinearScale\n",
    "import bqplot\n",
    "from IPython.display import display, clear_output\n",
    "import ipywidgets as widgets"
   ]
  },
  {
   "cell_type": "code",
   "execution_count": 2,
   "id": "4739aa00-acef-4f71-bc57-63df43371b1b",
   "metadata": {},
   "outputs": [
    {
     "data": {
      "application/vnd.jupyter.widget-view+json": {
       "model_id": "8ac1fd4ca0eb4b4fad5ef3f038e099f9",
       "version_major": 2,
       "version_minor": 0
      },
      "text/plain": [
       "Output(layout=Layout(border_bottom='1px solid black', border_left='1px solid black', border_right='1px solid b…"
      ]
     },
     "metadata": {},
     "output_type": "display_data"
    }
   ],
   "source": [
    "out = widgets.Output(layout={'border': '1px solid black'})\n",
    "out.append_stdout('HERE THE DECODED MQTT MESSAGES WILL BE SHOWN!\\n')\n",
    "display(out)"
   ]
  },
  {
   "cell_type": "code",
   "execution_count": 3,
   "id": "7b563d1f-f66c-4f6c-ab32-df6a7113762a",
   "metadata": {},
   "outputs": [
    {
     "data": {
      "application/vnd.jupyter.widget-view+json": {
       "model_id": "ebf9f3bcdef044f39378fcf7dc0c40ee",
       "version_major": 2,
       "version_minor": 0
      },
      "text/plain": [
       "Figure(axes=[Axis(scale=LinearScale(max=1000.0, min=200.0)), Axis(orientation='vertical', scale=LinearScale(ma…"
      ]
     },
     "metadata": {},
     "output_type": "display_data"
    }
   ],
   "source": [
    "N = 200\n",
    "x_data = np.array(np.zeros(N))  # Initialize with empty arrays\n",
    "z_data = np.array(np.zeros(N))  # Initialize with empty arrays\n",
    "t_data = np.array(np.zeros(N))  # Initialize with empty arrays\n",
    "\n",
    "t = 0\n",
    "x0 = 1200\n",
    "z0 = 470\n",
    "\n",
    "fig = plt.figure(title='Plant Profile Scanner')\n",
    "\n",
    "x_scale = LinearScale(min=200, max=1000)  # Set the x-axis limits\n",
    "y_scale = LinearScale(min=0, max=250)  # Set the y-axis limits\n",
    "\n",
    "samples = plt.scatter(x=x_data, y=z_data,  colors=['red'], marker='circle', default_size=100, default_opacities=[1.0], display_legend=False, scales={'x': x_scale, 'y': y_scale})\n",
    "\n",
    "text_widget = plt.label([f\"{t = :8.2f} \"], x=[10], y=[250], colors=['black'])\n",
    "\n",
    "display(fig)\n",
    "\n",
    "i = 0\n",
    "t0 = traw = t = x = z = 0\n",
    "payload = \"\"\n",
    "#first = True\n",
    "\n",
    "def on_message(client, userdata, message):\n",
    "    global payload\n",
    "    global i, t, t0, x, z, traw\n",
    "    global t_data, x_data, z_data\n",
    "\n",
    "    # Parse the received message\n",
    "    payload = message.payload.decode('utf-8')\n",
    "    traw, xraw, zraw = map(float, payload.strip('()').split(','))\n",
    "\n",
    "    if (i==0): \n",
    "        t0 = traw\n",
    "\n",
    "    t = traw - t0\n",
    "    x = x0 - xraw\n",
    "    z = z0 - zraw\n",
    "    \n",
    "    s = f\"{i:4d}  {t:12.2f}  {x:6.2f}  {z:6.2f}\"\n",
    "\n",
    "#    out.append_stdout(s + \"\\n\")\n",
    "\n",
    "    i += 1\n",
    "\n",
    "    t_data = np.roll(t_data, -1); t_data[-1] = t    \n",
    "    x_data = np.roll(x_data, -1); x_data[-1] = x\n",
    "    z_data = np.roll(z_data, -1); z_data[-1] = z\n",
    "\n",
    "    # # index of x_acc array with the x closest to x_acc[idx]\n",
    "    # idx = int(np.round(x/dx)) \n",
    "    # if (idx >= 0) & (idx < N_acc):\n",
    "    #     z_acc[idx] = (n_acc[idx] * z_acc[idx] + z) / (n_acc[idx] + 1)\n",
    "    #     n_acc[idx] += 1\n",
    "     \n",
    "    # # Update the line plot with new data\n",
    "    with samples.hold_sync(): \n",
    "        samples.x, samples.y = x_data, z_data\n",
    "\n",
    "    # # Update the text widget with the latest 't' value\n",
    "    text_widget.text = [f\"{t = :8.2f} s\"]\n",
    "\n",
    "    # Refresh the plot\n",
    "    #clear_output(wait=True)\n",
    "    #display(fig)\n",
    "\n",
    "\n",
    "# MQTT setup\n",
    "def on_connect(client, userdata, flags, rc):\n",
    "    print(\"Connected with result code \" + str(rc))\n",
    "    out.append_stdout(\"Connected with result code \" + str(rc) + \"\\n\")\n",
    "\n",
    "client = mqtt.Client()\n",
    "\n",
    "client.on_connect = on_connect\n",
    "client.on_message = on_message\n",
    "\n",
    "client.username_pw_set(USER, PW)\n",
    "client.connect(BROKER, 1883, 60)\n",
    "\n",
    "client.subscribe(TOPIC)\n",
    "\n",
    "#while (client.is_connected == False): pass\n",
    "#out.append_stdout(\"MQTT Client connected.\\n\")\n",
    "\n",
    "# Start the MQTT client loop in the background\n",
    "client.loop_start()\n",
    "\n",
    "# Display the figure\n",
    "#display(fig)\n"
   ]
  },
  {
   "cell_type": "code",
   "execution_count": 4,
   "id": "8297a06a-1957-4e79-84f5-610508b47b3a",
   "metadata": {},
   "outputs": [],
   "source": [
    "#samples.x, samples.y = x_acc, z_acc"
   ]
  },
  {
   "cell_type": "code",
   "execution_count": 5,
   "id": "ae9d55f0-449b-4f5a-9f9e-7f26d48c7005",
   "metadata": {},
   "outputs": [],
   "source": [
    "#z_acc"
   ]
  },
  {
   "cell_type": "code",
   "execution_count": 6,
   "id": "add62ce5-1fbf-4332-bbb3-86e6aaf463b2",
   "metadata": {},
   "outputs": [],
   "source": [
    "#profile.x, profile.y = x_acc, z_acc"
   ]
  },
  {
   "cell_type": "code",
   "execution_count": 7,
   "id": "22d975f2-b0d2-402a-8896-b705fe85186d",
   "metadata": {},
   "outputs": [],
   "source": [
    "#len(x_acc)"
   ]
  },
  {
   "cell_type": "code",
   "execution_count": 8,
   "id": "9fb20e31-9b7d-4104-9714-5b0b44c9ca2b",
   "metadata": {},
   "outputs": [],
   "source": [
    "#len(z_acc)"
   ]
  },
  {
   "cell_type": "code",
   "execution_count": 9,
   "id": "647363e0-ed00-4fc8-bac4-d86268d19c08",
   "metadata": {},
   "outputs": [],
   "source": [
    "#len(n_acc)"
   ]
  },
  {
   "cell_type": "code",
   "execution_count": 10,
   "id": "b43de614-b66b-4db6-9325-3c7b66d15c8d",
   "metadata": {},
   "outputs": [],
   "source": [
    "#n_acc"
   ]
  },
  {
   "cell_type": "code",
   "execution_count": 11,
   "id": "9d5f06f9-20e2-4919-aa32-dee89ab4599a",
   "metadata": {},
   "outputs": [],
   "source": [
    "#z_acc"
   ]
  },
  {
   "cell_type": "code",
   "execution_count": 12,
   "id": "70b2c0e7-6a0f-42f7-a178-f98f34c482ec",
   "metadata": {},
   "outputs": [],
   "source": [
    "#z_data"
   ]
  },
  {
   "cell_type": "code",
   "execution_count": null,
   "id": "01b54f9e-0263-446f-855f-f166cf164782",
   "metadata": {},
   "outputs": [],
   "source": []
  }
 ],
 "metadata": {
  "kernelspec": {
   "display_name": "Python 3 (ipykernel)",
   "language": "python",
   "name": "python3"
  },
  "language_info": {
   "codemirror_mode": {
    "name": "ipython",
    "version": 3
   },
   "file_extension": ".py",
   "mimetype": "text/x-python",
   "name": "python",
   "nbconvert_exporter": "python",
   "pygments_lexer": "ipython3",
   "version": "3.11.4"
  }
 },
 "nbformat": 4,
 "nbformat_minor": 5
}
