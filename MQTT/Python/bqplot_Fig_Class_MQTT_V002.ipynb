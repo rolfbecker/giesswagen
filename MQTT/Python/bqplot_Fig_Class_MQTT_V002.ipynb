{
 "cells": [
  {
   "cell_type": "markdown",
   "id": "1d73939c-a8d7-4c72-89ed-44d735a973e3",
   "metadata": {},
   "source": [
    "## Fig Class"
   ]
  },
  {
   "cell_type": "code",
   "execution_count": 1,
   "id": "289a9aa1-353f-48e4-b656-001c7ccc5eeb",
   "metadata": {},
   "outputs": [],
   "source": [
    "import bqplot.pyplot as plt\n",
    "from bqplot import LinearScale\n",
    "from traits.api import HasTraits, observe, Any, Array\n",
    "import numpy as np\n",
    "import time\n",
    "\n",
    "dx = 5 # mm\n",
    "#N2 = 200\n",
    "\n",
    "N1 = 50\n",
    "xsc_min = 0\n",
    "xsc_max = 1000\n",
    "ysc_min = 0\n",
    "ysc_max = 500\n",
    "xsc_margin = 20\n",
    "ysc_margin = 20\n",
    "\n",
    "x_acc = np.arange(xsc_min, xsc_max+1e-3, dx)  # Initialize with empty arrays\n",
    "N2 = len(x_acc)\n",
    "n_acc = np.array(np.zeros(N2))  # Initialize with empty arrays\n",
    "z_acc = np.array(np.zeros(N2))  # Initialize with empty arrays\n"
   ]
  },
  {
   "cell_type": "code",
   "execution_count": 2,
   "id": "9b34c37d-2cd7-4eec-8268-b2b6857b0183",
   "metadata": {},
   "outputs": [],
   "source": [
    "from enum import Enum\n",
    "\n",
    "class State(Enum):\n",
    "    IDLE = 1\n",
    "    WATERING = 2\n",
    "\n",
    "state = State.IDLE\n"
   ]
  },
  {
   "cell_type": "code",
   "execution_count": 3,
   "id": "39ec98f1-6c8d-468c-b865-67f37eaf2945",
   "metadata": {},
   "outputs": [
    {
     "data": {
      "text/plain": [
       "True"
      ]
     },
     "execution_count": 3,
     "metadata": {},
     "output_type": "execute_result"
    }
   ],
   "source": [
    "state == State.IDLE"
   ]
  },
  {
   "cell_type": "code",
   "execution_count": null,
   "id": "4bea1037-88b7-414c-93ef-5da66670f38f",
   "metadata": {},
   "outputs": [],
   "source": []
  },
  {
   "cell_type": "code",
   "execution_count": null,
   "id": "252fc7ab-192d-426f-b177-14208801d959",
   "metadata": {},
   "outputs": [],
   "source": []
  },
  {
   "cell_type": "code",
   "execution_count": 4,
   "id": "6247111e-aa03-479c-9ac7-fe9223d8f8c5",
   "metadata": {},
   "outputs": [
    {
     "data": {
      "application/vnd.jupyter.widget-view+json": {
       "model_id": "7009dea2f9624b039cc472ec08856a6f",
       "version_major": 2,
       "version_minor": 0
      },
      "text/plain": [
       "VBox(children=(Figure(axes=[Axis(scale=LinearScale(max=1020.0, min=-20.0)), Axis(orientation='vertical', scale…"
      ]
     },
     "metadata": {},
     "output_type": "display_data"
    }
   ],
   "source": [
    "\n",
    "class PlantProfilePlot(HasTraits):\n",
    "\n",
    "    global N1, N2, xsc_min, ysc_min, xsc_max, ysc_max, xsc_margin, ysc_margin\n",
    "\n",
    "    fig = plt.figure(layout=dict(height=\"600px\", width=\"1200px\"))\n",
    "    \n",
    "    x_scale = LinearScale(min=xsc_min-xsc_margin, max=xsc_max+xsc_margin)  # Set the x-axis limits\n",
    "    y_scale = LinearScale(min=ysc_min-ysc_margin, max=ysc_max+ysc_margin)  # Set the y-axis limits \n",
    "\n",
    "    figdata1 = Array(shape=(N1, 3)) # Col: t, x, z\n",
    "    figdata2 = Array(shape=(N2, 3))\n",
    "    \n",
    "    scatter1 = plt.scatter([], [], colors=['red'], default_size = 30, scales={'x': x_scale, 'y': y_scale})  # Initialize with empty scatter\n",
    "    scatter2 = plt.scatter([], [], colors=['blue'], default_size = 20, scales={'x': x_scale, 'y': y_scale})  # Initialize with empty scatter\n",
    "\n",
    "    def __init__(self):\n",
    "        super(PlantProfilePlot, self).__init__()\n",
    "        self.figdata1 = np.random.rand(N1, 3)*(1, xsc_max, ysc_max) # Initialize with random data\n",
    "        self.figdata2 = np.random.rand(N2, 3)*(1, xsc_max, ysc_max) # Initialize with random data\n",
    "\n",
    "    @observe(\"figdata1\")\n",
    "    def _on_figdata1_update(self, change):\n",
    "        with self.scatter1.hold_sync():  # Disable automatic updates during this block\n",
    "            if self.scatter1.x is not None:\n",
    "                self.scatter1.x = self.figdata1[:, 1]\n",
    "                self.scatter1.y = self.figdata1[:, 2]\n",
    "            else:\n",
    "                self.scatter1 = plt.scatter(self.figdata1[:, 1], self.figdata1[:, 2], colors=['blue'])\n",
    "\n",
    "    @observe(\"figdata2\")\n",
    "    def _on_figdata2_update(self, change):\n",
    "        with self.scatter2.hold_sync():  # Disable automatic updates during this block\n",
    "            if self.scatter2.x is not None:\n",
    "                self.scatter2.x = self.figdata2[:, 1]\n",
    "                self.scatter2.y = self.figdata2[:, 2]\n",
    "            else:\n",
    "                self.scatter2 = plt.scatter(self.figdata2[:, 1], self.figdata2[:, 2], colors=['red'])\n",
    "\n",
    "    def update_data1(self, new_data):\n",
    "        self.figdata1 = new_data\n",
    "\n",
    "    def update_data2(self, new_data):\n",
    "        self.figdata2 = new_data\n",
    "\n",
    "    def clear(self):\n",
    "        self.scatter1.x, self.scatter1.y = [], []\n",
    "        self.scatter2.x, self.scatter2.y = [], []\n",
    "\n",
    "\n",
    "plotter = PlantProfilePlot()\n",
    "plt.show()"
   ]
  },
  {
   "cell_type": "code",
   "execution_count": 5,
   "id": "aa6f1f50-dc45-489e-a521-2a12da64ec92",
   "metadata": {},
   "outputs": [],
   "source": [
    "# Some test functions ...\n",
    "\n",
    "# for i in range(100):\n",
    "#     dat = np.random.rand(N, 3)*(1, 1000, 500)\n",
    "#     plotter.update_data1(dat)\n",
    "#     time.sleep(0.1)\n",
    "\n",
    "# plotter.clear()\n",
    "\n",
    "# plotter.update_data2(dat)"
   ]
  },
  {
   "cell_type": "markdown",
   "id": "1031804a-a5b9-4d24-adc2-da1e16466e8c",
   "metadata": {},
   "source": [
    "## Data Structures for Rolling Windows ... "
   ]
  },
  {
   "cell_type": "code",
   "execution_count": 6,
   "id": "c1f93f3c-d77d-4cc2-bec0-ffbdfa04bdfc",
   "metadata": {},
   "outputs": [],
   "source": [
    "import numpy as np"
   ]
  },
  {
   "cell_type": "code",
   "execution_count": 7,
   "id": "4b11d424-6b26-4e1d-ac28-309af52d1937",
   "metadata": {},
   "outputs": [],
   "source": [
    "x_data = np.linspace(xsc_min, xsc_max, N1)  # Initialize with empty arrays\n",
    "z_data = np.array(np.zeros(N1))  # Initialize with empty arrays\n",
    "t_data = np.array(np.zeros(N1))  # Initialize with empty arrays\n",
    "\n",
    "data = np.array([t_data, x_data, z_data]).T\n",
    "\n",
    "plotter.update_data1(data)"
   ]
  },
  {
   "cell_type": "code",
   "execution_count": 8,
   "id": "2b0083fa-1657-4ac1-a2ee-3ad206e19451",
   "metadata": {},
   "outputs": [],
   "source": [
    "# n_acc = np.array(np.zeros(N2))  # Initialize with empty arrays\n",
    "# x_acc = np.array(np.zeros(N2))  # Initialize with empty arrays\n",
    "# z_acc = np.array(np.zeros(N2))  # Initialize with empty arrays"
   ]
  },
  {
   "cell_type": "code",
   "execution_count": 9,
   "id": "8aa3d024-bcea-4b9b-9f37-91a78a6e5cc8",
   "metadata": {},
   "outputs": [],
   "source": [
    "data2 = np.random.rand(N2, 3)*(1, 1000, 500)\n",
    "plotter.update_data2(data2)"
   ]
  },
  {
   "cell_type": "code",
   "execution_count": 10,
   "id": "ce424274-eed6-46aa-8fe2-6e31fe8315db",
   "metadata": {},
   "outputs": [],
   "source": [
    "plotter.clear()"
   ]
  },
  {
   "cell_type": "markdown",
   "id": "e89b27b3-402b-4d54-9b64-93836c4721d7",
   "metadata": {},
   "source": [
    "## MQTT"
   ]
  },
  {
   "cell_type": "code",
   "execution_count": 11,
   "id": "2f083e1a-93ca-4826-8d2a-f0d0975c68e3",
   "metadata": {},
   "outputs": [],
   "source": [
    "import paho.mqtt.client as mqtt"
   ]
  },
  {
   "cell_type": "code",
   "execution_count": 12,
   "id": "6eee6035-624c-41f0-b309-b88b56ee4be4",
   "metadata": {},
   "outputs": [],
   "source": [
    "BROKER = r\"kleve.cool\"\n",
    "TOPIC = r\"gw/duese002\"\n",
    "TOPIC_OUT = r\"gw/duese002-licht\"\n",
    "USER = r\"pub\"\n",
    "PW = r\"pub\""
   ]
  },
  {
   "cell_type": "code",
   "execution_count": 13,
   "id": "a5a3245e-f148-43b6-b898-7447ad0af6a7",
   "metadata": {},
   "outputs": [],
   "source": [
    "t = 0\n",
    "i = 0\n",
    "x0 = 1200\n",
    "z0 = 470"
   ]
  },
  {
   "cell_type": "code",
   "execution_count": 14,
   "id": "f0460417-d989-44c3-a9a5-9cf3d162afd8",
   "metadata": {},
   "outputs": [
    {
     "data": {
      "application/vnd.jupyter.widget-view+json": {
       "model_id": "49038e13d82e481bac623b0c9de56f04",
       "version_major": 2,
       "version_minor": 0
      },
      "text/plain": [
       "Output(layout=Layout(border_bottom='1px solid black', border_left='1px solid black', border_right='1px solid b…"
      ]
     },
     "metadata": {},
     "output_type": "display_data"
    }
   ],
   "source": [
    "import ipywidgets as widgets\n",
    "out = widgets.Output(layout={'border': '1px solid black'})\n",
    "out.append_stdout('HERE THE DECODED MQTT MESSAGES WILL BE SHOWN!\\n')\n",
    "display(out)"
   ]
  },
  {
   "cell_type": "code",
   "execution_count": 15,
   "id": "710e3ef2-6b7d-4031-ba28-2fc851bc96fb",
   "metadata": {},
   "outputs": [],
   "source": [
    "def on_message(client, userdata, message):\n",
    "    global payload, plotter, out\n",
    "    global i, t, t0, x, z, traw, xraw, zraw\n",
    "    global t_data, x_data, z_data\n",
    "    global n_acc, x_acc, z_acc\n",
    "    global state\n",
    "\n",
    "    # Parse the received message\n",
    "    payload = message.payload.decode('utf-8')\n",
    "    traw, xraw, zraw = map(float, payload.strip('()').split(','))\n",
    "\n",
    "    if (i==0): \n",
    "        t0 = traw\n",
    "\n",
    "    t = traw - t0\n",
    "    x = x0 - xraw\n",
    "    z = z0 - zraw\n",
    "    \n",
    "    s = f\"{i:4d}  {t:12.2f}  {x:6.2f}  {z:6.2f}\"\n",
    "\n",
    "    if (state == state.IDLE) & (z > 120):\n",
    "        client.publish(\"gw/duese002-licht\", \"on\")\n",
    "        state = state.WATERING\n",
    "    if (state == state.WATERING) & (z < 100):\n",
    "        client.publish(\"gw/duese002-licht\", \"off\")\n",
    "        state = state.IDLE\n",
    "        \n",
    "    i += 1\n",
    "\n",
    "    t_data = np.roll(t_data, -1); t_data[-1] = t    \n",
    "    x_data = np.roll(x_data, -1); x_data[-1] = x\n",
    "    z_data = np.roll(z_data, -1); z_data[-1] = z\n",
    "\n",
    "    data = np.array([t_data, x_data, z_data]).T\n",
    "\n",
    "    plotter.update_data1(data)\n",
    "\n",
    "# index of x_acc array with the x closest to x_acc[idx]\n",
    "    idx = int(np.round(x/dx)) \n",
    "    if (idx >= 0) & (idx < N2):\n",
    "        if n_acc[idx] == 0:\n",
    "            z_acc[idx] = z\n",
    "        else:\n",
    "#            z_acc[idx] = (n_acc[idx] * z_acc[idx] + z) / (n_acc[idx] + 1)\n",
    "            z_acc[idx] = (4 * z_acc[idx] + z) / 5\n",
    "            \n",
    "        n_acc[idx] += 1\n",
    "\n",
    "    data2 = np.array([n_acc, x_acc, z_acc]).T\n",
    "\n",
    "    plotter.update_data2(data2)\n",
    "    \n",
    "#    out.append_stdout(s + \"\\n\")"
   ]
  },
  {
   "cell_type": "code",
   "execution_count": 16,
   "id": "d40ec5b0-0ed3-46cc-9668-d5d7b4263c2b",
   "metadata": {},
   "outputs": [],
   "source": [
    "def on_connect(client, userdata, flags, rc):\n",
    "    print(\"Connected with result code \" + str(rc))\n",
    "    out.append_stdout(\"Connected with result code \" + str(rc) + \"\\n\")"
   ]
  },
  {
   "cell_type": "code",
   "execution_count": 17,
   "id": "db402c33-a680-4600-9084-8854382a3ecc",
   "metadata": {},
   "outputs": [],
   "source": [
    "client = mqtt.Client()\n",
    "\n",
    "client.on_connect = on_connect\n",
    "client.on_message = on_message\n",
    "\n",
    "client.username_pw_set(USER, PW)\n",
    "client.connect(BROKER, 1883, 60)\n",
    "\n",
    "client.subscribe(TOPIC)\n",
    "\n",
    "client.loop_start()"
   ]
  },
  {
   "cell_type": "code",
   "execution_count": null,
   "id": "134a27fb-8964-461a-b35c-01cd69ebccf3",
   "metadata": {},
   "outputs": [],
   "source": []
  },
  {
   "cell_type": "code",
   "execution_count": 18,
   "id": "41b8f02d-c1b0-406b-ad80-3be64f6a90ca",
   "metadata": {},
   "outputs": [],
   "source": [
    "#client.publish(\"TOPIC_OUT\", \"off\")"
   ]
  },
  {
   "cell_type": "code",
   "execution_count": 19,
   "id": "64adc6ef-a7cd-4e1d-bc4c-19e0bce7ff16",
   "metadata": {},
   "outputs": [],
   "source": [
    "#client.publish(\"gw/duese002-licht\", \"on\")"
   ]
  },
  {
   "cell_type": "code",
   "execution_count": null,
   "id": "df9e4300-5ae0-4178-9444-614a97f8f57c",
   "metadata": {},
   "outputs": [],
   "source": []
  }
 ],
 "metadata": {
  "kernelspec": {
   "display_name": "Python 3 (ipykernel)",
   "language": "python",
   "name": "python3"
  },
  "language_info": {
   "codemirror_mode": {
    "name": "ipython",
    "version": 3
   },
   "file_extension": ".py",
   "mimetype": "text/x-python",
   "name": "python",
   "nbconvert_exporter": "python",
   "pygments_lexer": "ipython3",
   "version": "3.11.4"
  }
 },
 "nbformat": 4,
 "nbformat_minor": 5
}
