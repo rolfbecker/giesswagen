{
 "cells": [
  {
   "cell_type": "code",
   "execution_count": null,
   "id": "3409cce0-98f7-4bbc-96eb-5945e62f724d",
   "metadata": {},
   "outputs": [],
   "source": []
  },
  {
   "cell_type": "code",
   "execution_count": 1,
   "id": "6247111e-aa03-479c-9ac7-fe9223d8f8c5",
   "metadata": {},
   "outputs": [
    {
     "data": {
      "application/vnd.jupyter.widget-view+json": {
       "model_id": "ac830adf08b245e28fe4e853f393acea",
       "version_major": 2,
       "version_minor": 0
      },
      "text/plain": [
       "VBox(children=(Figure(axes=[Axis(scale=LinearScale(max=1020.0, min=-20.0)), Axis(orientation='vertical', scale…"
      ]
     },
     "metadata": {},
     "output_type": "display_data"
    }
   ],
   "source": [
    "import bqplot.pyplot as plt\n",
    "from bqplot import LinearScale\n",
    "from traits.api import HasTraits, observe, Any, Array\n",
    "import numpy as np\n",
    "import time\n",
    "\n",
    "N = 500\n",
    "xsc_max = 1000\n",
    "ysc_max = 500\n",
    "xsc_margin = 20\n",
    "ysc_margin = 20\n",
    "\n",
    "class PlantProfilePlot(HasTraits):\n",
    "\n",
    "    global N, xsc_max, ysc_max, xsc_margin, ysc_margin\n",
    "\n",
    "    fig = plt.figure(layout=dict(height=\"600px\", width=\"1200px\"))\n",
    "    \n",
    "    x_scale = LinearScale(min=-xsc_margin, max=xsc_max+xsc_margin)  # Set the x-axis limits\n",
    "    y_scale = LinearScale(min=-ysc_margin, max=ysc_max+ysc_margin)  # Set the y-axis limits \n",
    "\n",
    "    figdata1 = Array(shape=(N, 3)) # Col: t, x, z\n",
    "    figdata2 = Array(shape=(N, 3))\n",
    "    \n",
    "    scatter1 = plt.scatter([], [], colors=['blue'], scales={'x': x_scale, 'y': y_scale})  # Initialize with empty scatter\n",
    "    scatter2 = plt.scatter([], [], colors=['red'],  scales={'x': x_scale, 'y': y_scale})  # Initialize with empty scatter\n",
    "\n",
    "    def __init__(self):\n",
    "        super(PlantProfilePlot, self).__init__()\n",
    "        self.figdata1 = np.random.rand(N, 3)*(1, xsc_max, ysc_max) # Initialize with random data\n",
    "        self.figdata2 = np.random.rand(N, 3)*(1, xsc_max, ysc_max) # Initialize with random data\n",
    "\n",
    "    @observe(\"figdata1\")\n",
    "    def _on_figdata1_update(self, change):\n",
    "        with self.scatter1.hold_sync():  # Disable automatic updates during this block\n",
    "            if self.scatter1.x is not None:\n",
    "                self.scatter1.x = self.figdata1[:, 1]\n",
    "                self.scatter1.y = self.figdata1[:, 2]\n",
    "            else:\n",
    "                self.scatter1 = plt.scatter(self.figdata1[:, 1], self.figdata1[:, 2], colors=['blue'])\n",
    "\n",
    "    @observe(\"figdata2\")\n",
    "    def _on_figdata2_update(self, change):\n",
    "        with self.scatter2.hold_sync():  # Disable automatic updates during this block\n",
    "            if self.scatter2.x is not None:\n",
    "                self.scatter2.x = self.figdata2[:, 1]\n",
    "                self.scatter2.y = self.figdata2[:, 2]\n",
    "            else:\n",
    "                self.scatter2 = plt.scatter(self.figdata2[:, 1], self.figdata2[:, 2], colors=['red'])\n",
    "\n",
    "    def update_data1(self, new_data):\n",
    "        self.figdata1 = new_data\n",
    "\n",
    "    def update_data2(self, new_data):\n",
    "        self.figdata2 = new_data\n",
    "\n",
    "    def clear(self):\n",
    "        self.scatter1.x, self.scatter1.y = [], []\n",
    "        self.scatter2.x, self.scatter2.y = [], []\n",
    "\n",
    "\n",
    "plotter = PlantProfilePlot()\n",
    "plt.show()"
   ]
  },
  {
   "cell_type": "code",
   "execution_count": 2,
   "id": "58ef5f47-5801-44f0-aa98-9e32816d9dea",
   "metadata": {},
   "outputs": [],
   "source": [
    "plotter.clear()"
   ]
  },
  {
   "cell_type": "code",
   "execution_count": 3,
   "id": "aa6f1f50-dc45-489e-a521-2a12da64ec92",
   "metadata": {},
   "outputs": [],
   "source": [
    "for i in range(100):\n",
    "    dat = np.random.rand(N, 3)*(1, 1000, 500)\n",
    "    plotter.update_data1(dat)\n",
    "    time.sleep(0.1)"
   ]
  },
  {
   "cell_type": "code",
   "execution_count": 4,
   "id": "a5a3245e-f148-43b6-b898-7447ad0af6a7",
   "metadata": {},
   "outputs": [],
   "source": [
    "plotter.update_data2(dat)"
   ]
  },
  {
   "cell_type": "code",
   "execution_count": null,
   "id": "6eee6035-624c-41f0-b309-b88b56ee4be4",
   "metadata": {},
   "outputs": [],
   "source": []
  }
 ],
 "metadata": {
  "kernelspec": {
   "display_name": "Python 3 (ipykernel)",
   "language": "python",
   "name": "python3"
  },
  "language_info": {
   "codemirror_mode": {
    "name": "ipython",
    "version": 3
   },
   "file_extension": ".py",
   "mimetype": "text/x-python",
   "name": "python",
   "nbconvert_exporter": "python",
   "pygments_lexer": "ipython3",
   "version": "3.11.4"
  }
 },
 "nbformat": 4,
 "nbformat_minor": 5
}
